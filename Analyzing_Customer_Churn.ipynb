{
  "cells": [
    {
      "cell_type": "markdown",
      "id": "58a8d0ef",
      "metadata": {
        "id": "58a8d0ef"
      },
      "source": [
        "# Analyzing Customer Churn"
      ]
    },
    {
      "cell_type": "code",
      "execution_count": null,
      "id": "07715b38",
      "metadata": {
        "id": "07715b38"
      },
      "outputs": [],
      "source": [
        "# Importing the libraries\n",
        "import pandas as pd\n",
        "import matplotlib.pyplot as plt\n",
        "import seaborn as sns\n",
        "import numpy as np"
      ]
    },
    {
      "cell_type": "code",
      "execution_count": null,
      "id": "2cdaa1b0",
      "metadata": {
        "id": "2cdaa1b0"
      },
      "outputs": [],
      "source": [
        "df=pd.read_csv('customer_churn.csv') # Loading the dataset"
      ]
    },
    {
      "cell_type": "code",
      "execution_count": null,
      "id": "f4d5fe78",
      "metadata": {
        "id": "f4d5fe78",
        "outputId": "4131ac75-1565-4a09-c0c6-9e8fe69e3c57"
      },
      "outputs": [
        {
          "data": {
            "text/html": [
              "<div>\n",
              "<style scoped>\n",
              "    .dataframe tbody tr th:only-of-type {\n",
              "        vertical-align: middle;\n",
              "    }\n",
              "\n",
              "    .dataframe tbody tr th {\n",
              "        vertical-align: top;\n",
              "    }\n",
              "\n",
              "    .dataframe thead th {\n",
              "        text-align: right;\n",
              "    }\n",
              "</style>\n",
              "<table border=\"1\" class=\"dataframe\">\n",
              "  <thead>\n",
              "    <tr style=\"text-align: right;\">\n",
              "      <th></th>\n",
              "      <th>0</th>\n",
              "      <th>1</th>\n",
              "      <th>2</th>\n",
              "      <th>3</th>\n",
              "      <th>4</th>\n",
              "    </tr>\n",
              "  </thead>\n",
              "  <tbody>\n",
              "    <tr>\n",
              "      <th>customerID</th>\n",
              "      <td>7590-VHVEG</td>\n",
              "      <td>5575-GNVDE</td>\n",
              "      <td>3668-QPYBK</td>\n",
              "      <td>7795-CFOCW</td>\n",
              "      <td>9237-HQITU</td>\n",
              "    </tr>\n",
              "    <tr>\n",
              "      <th>gender</th>\n",
              "      <td>Female</td>\n",
              "      <td>Male</td>\n",
              "      <td>Male</td>\n",
              "      <td>Male</td>\n",
              "      <td>Female</td>\n",
              "    </tr>\n",
              "    <tr>\n",
              "      <th>SeniorCitizen</th>\n",
              "      <td>0</td>\n",
              "      <td>0</td>\n",
              "      <td>0</td>\n",
              "      <td>0</td>\n",
              "      <td>0</td>\n",
              "    </tr>\n",
              "    <tr>\n",
              "      <th>Partner</th>\n",
              "      <td>Yes</td>\n",
              "      <td>No</td>\n",
              "      <td>No</td>\n",
              "      <td>No</td>\n",
              "      <td>No</td>\n",
              "    </tr>\n",
              "    <tr>\n",
              "      <th>Dependents</th>\n",
              "      <td>No</td>\n",
              "      <td>No</td>\n",
              "      <td>No</td>\n",
              "      <td>No</td>\n",
              "      <td>No</td>\n",
              "    </tr>\n",
              "    <tr>\n",
              "      <th>tenure</th>\n",
              "      <td>1</td>\n",
              "      <td>34</td>\n",
              "      <td>2</td>\n",
              "      <td>45</td>\n",
              "      <td>2</td>\n",
              "    </tr>\n",
              "    <tr>\n",
              "      <th>PhoneService</th>\n",
              "      <td>No</td>\n",
              "      <td>Yes</td>\n",
              "      <td>Yes</td>\n",
              "      <td>No</td>\n",
              "      <td>Yes</td>\n",
              "    </tr>\n",
              "    <tr>\n",
              "      <th>MultipleLines</th>\n",
              "      <td>No phone service</td>\n",
              "      <td>No</td>\n",
              "      <td>No</td>\n",
              "      <td>No phone service</td>\n",
              "      <td>No</td>\n",
              "    </tr>\n",
              "    <tr>\n",
              "      <th>InternetService</th>\n",
              "      <td>DSL</td>\n",
              "      <td>DSL</td>\n",
              "      <td>DSL</td>\n",
              "      <td>DSL</td>\n",
              "      <td>Fiber optic</td>\n",
              "    </tr>\n",
              "    <tr>\n",
              "      <th>OnlineSecurity</th>\n",
              "      <td>No</td>\n",
              "      <td>Yes</td>\n",
              "      <td>Yes</td>\n",
              "      <td>Yes</td>\n",
              "      <td>No</td>\n",
              "    </tr>\n",
              "    <tr>\n",
              "      <th>OnlineBackup</th>\n",
              "      <td>Yes</td>\n",
              "      <td>No</td>\n",
              "      <td>Yes</td>\n",
              "      <td>No</td>\n",
              "      <td>No</td>\n",
              "    </tr>\n",
              "    <tr>\n",
              "      <th>DeviceProtection</th>\n",
              "      <td>No</td>\n",
              "      <td>Yes</td>\n",
              "      <td>No</td>\n",
              "      <td>Yes</td>\n",
              "      <td>No</td>\n",
              "    </tr>\n",
              "    <tr>\n",
              "      <th>TechSupport</th>\n",
              "      <td>No</td>\n",
              "      <td>No</td>\n",
              "      <td>No</td>\n",
              "      <td>Yes</td>\n",
              "      <td>No</td>\n",
              "    </tr>\n",
              "    <tr>\n",
              "      <th>StreamingTV</th>\n",
              "      <td>No</td>\n",
              "      <td>No</td>\n",
              "      <td>No</td>\n",
              "      <td>No</td>\n",
              "      <td>No</td>\n",
              "    </tr>\n",
              "    <tr>\n",
              "      <th>StreamingMovies</th>\n",
              "      <td>No</td>\n",
              "      <td>No</td>\n",
              "      <td>No</td>\n",
              "      <td>No</td>\n",
              "      <td>No</td>\n",
              "    </tr>\n",
              "    <tr>\n",
              "      <th>Contract</th>\n",
              "      <td>Month-to-month</td>\n",
              "      <td>One year</td>\n",
              "      <td>Month-to-month</td>\n",
              "      <td>One year</td>\n",
              "      <td>Month-to-month</td>\n",
              "    </tr>\n",
              "    <tr>\n",
              "      <th>PaperlessBilling</th>\n",
              "      <td>Yes</td>\n",
              "      <td>No</td>\n",
              "      <td>Yes</td>\n",
              "      <td>No</td>\n",
              "      <td>Yes</td>\n",
              "    </tr>\n",
              "    <tr>\n",
              "      <th>PaymentMethod</th>\n",
              "      <td>Electronic check</td>\n",
              "      <td>Mailed check</td>\n",
              "      <td>Mailed check</td>\n",
              "      <td>Bank transfer (automatic)</td>\n",
              "      <td>Electronic check</td>\n",
              "    </tr>\n",
              "    <tr>\n",
              "      <th>MonthlyCharges</th>\n",
              "      <td>29.85</td>\n",
              "      <td>56.95</td>\n",
              "      <td>53.85</td>\n",
              "      <td>42.3</td>\n",
              "      <td>70.7</td>\n",
              "    </tr>\n",
              "    <tr>\n",
              "      <th>TotalCharges</th>\n",
              "      <td>29.85</td>\n",
              "      <td>1889.5</td>\n",
              "      <td>108.15</td>\n",
              "      <td>1840.75</td>\n",
              "      <td>151.65</td>\n",
              "    </tr>\n",
              "    <tr>\n",
              "      <th>Churn</th>\n",
              "      <td>No</td>\n",
              "      <td>No</td>\n",
              "      <td>Yes</td>\n",
              "      <td>No</td>\n",
              "      <td>Yes</td>\n",
              "    </tr>\n",
              "  </tbody>\n",
              "</table>\n",
              "</div>"
            ],
            "text/plain": [
              "                                 0             1               2  \\\n",
              "customerID              7590-VHVEG    5575-GNVDE      3668-QPYBK   \n",
              "gender                      Female          Male            Male   \n",
              "SeniorCitizen                    0             0               0   \n",
              "Partner                        Yes            No              No   \n",
              "Dependents                      No            No              No   \n",
              "tenure                           1            34               2   \n",
              "PhoneService                    No           Yes             Yes   \n",
              "MultipleLines     No phone service            No              No   \n",
              "InternetService                DSL           DSL             DSL   \n",
              "OnlineSecurity                  No           Yes             Yes   \n",
              "OnlineBackup                   Yes            No             Yes   \n",
              "DeviceProtection                No           Yes              No   \n",
              "TechSupport                     No            No              No   \n",
              "StreamingTV                     No            No              No   \n",
              "StreamingMovies                 No            No              No   \n",
              "Contract            Month-to-month      One year  Month-to-month   \n",
              "PaperlessBilling               Yes            No             Yes   \n",
              "PaymentMethod     Electronic check  Mailed check    Mailed check   \n",
              "MonthlyCharges               29.85         56.95           53.85   \n",
              "TotalCharges                 29.85        1889.5          108.15   \n",
              "Churn                           No            No             Yes   \n",
              "\n",
              "                                          3                 4  \n",
              "customerID                       7795-CFOCW        9237-HQITU  \n",
              "gender                                 Male            Female  \n",
              "SeniorCitizen                             0                 0  \n",
              "Partner                                  No                No  \n",
              "Dependents                               No                No  \n",
              "tenure                                   45                 2  \n",
              "PhoneService                             No               Yes  \n",
              "MultipleLines              No phone service                No  \n",
              "InternetService                         DSL       Fiber optic  \n",
              "OnlineSecurity                          Yes                No  \n",
              "OnlineBackup                             No                No  \n",
              "DeviceProtection                        Yes                No  \n",
              "TechSupport                             Yes                No  \n",
              "StreamingTV                              No                No  \n",
              "StreamingMovies                          No                No  \n",
              "Contract                           One year    Month-to-month  \n",
              "PaperlessBilling                         No               Yes  \n",
              "PaymentMethod     Bank transfer (automatic)  Electronic check  \n",
              "MonthlyCharges                         42.3              70.7  \n",
              "TotalCharges                        1840.75            151.65  \n",
              "Churn                                    No               Yes  "
            ]
          },
          "execution_count": 244,
          "metadata": {},
          "output_type": "execute_result"
        }
      ],
      "source": [
        "df.head().T # First look at the data"
      ]
    },
    {
      "cell_type": "code",
      "execution_count": null,
      "id": "1c9a4de0",
      "metadata": {
        "id": "1c9a4de0",
        "outputId": "b3c637bc-5dd8-458e-99a3-63faf250506c"
      },
      "outputs": [
        {
          "name": "stdout",
          "output_type": "stream",
          "text": [
            "<class 'pandas.core.frame.DataFrame'>\n",
            "RangeIndex: 7043 entries, 0 to 7042\n",
            "Data columns (total 21 columns):\n",
            " #   Column            Non-Null Count  Dtype  \n",
            "---  ------            --------------  -----  \n",
            " 0   customerID        7043 non-null   object \n",
            " 1   gender            7043 non-null   object \n",
            " 2   SeniorCitizen     7043 non-null   int64  \n",
            " 3   Partner           7043 non-null   object \n",
            " 4   Dependents        7043 non-null   object \n",
            " 5   tenure            7043 non-null   int64  \n",
            " 6   PhoneService      7043 non-null   object \n",
            " 7   MultipleLines     7043 non-null   object \n",
            " 8   InternetService   7043 non-null   object \n",
            " 9   OnlineSecurity    7043 non-null   object \n",
            " 10  OnlineBackup      7043 non-null   object \n",
            " 11  DeviceProtection  7043 non-null   object \n",
            " 12  TechSupport       7043 non-null   object \n",
            " 13  StreamingTV       7043 non-null   object \n",
            " 14  StreamingMovies   7043 non-null   object \n",
            " 15  Contract          7043 non-null   object \n",
            " 16  PaperlessBilling  7043 non-null   object \n",
            " 17  PaymentMethod     7043 non-null   object \n",
            " 18  MonthlyCharges    7043 non-null   float64\n",
            " 19  TotalCharges      7043 non-null   object \n",
            " 20  Churn             7043 non-null   object \n",
            "dtypes: float64(1), int64(2), object(18)\n",
            "memory usage: 1.1+ MB\n"
          ]
        }
      ],
      "source": [
        "df.info() # Checking columns and datatypes"
      ]
    },
    {
      "cell_type": "code",
      "execution_count": null,
      "id": "983d842c",
      "metadata": {
        "id": "983d842c",
        "outputId": "d88b621e-d4f3-443c-c1a4-313e24914725"
      },
      "outputs": [
        {
          "data": {
            "text/plain": [
              "(7043, 21)"
            ]
          },
          "execution_count": 246,
          "metadata": {},
          "output_type": "execute_result"
        }
      ],
      "source": [
        "df.shape # Checking the number of rows and columns"
      ]
    },
    {
      "cell_type": "code",
      "execution_count": null,
      "id": "4424cf43",
      "metadata": {
        "id": "4424cf43",
        "outputId": "d4d70f74-f8cb-45d5-e2ba-91d843881db4"
      },
      "outputs": [
        {
          "data": {
            "text/plain": [
              "customerID          0\n",
              "gender              0\n",
              "SeniorCitizen       0\n",
              "Partner             0\n",
              "Dependents          0\n",
              "tenure              0\n",
              "PhoneService        0\n",
              "MultipleLines       0\n",
              "InternetService     0\n",
              "OnlineSecurity      0\n",
              "OnlineBackup        0\n",
              "DeviceProtection    0\n",
              "TechSupport         0\n",
              "StreamingTV         0\n",
              "StreamingMovies     0\n",
              "Contract            0\n",
              "PaperlessBilling    0\n",
              "PaymentMethod       0\n",
              "MonthlyCharges      0\n",
              "TotalCharges        0\n",
              "Churn               0\n",
              "dtype: int64"
            ]
          },
          "execution_count": 247,
          "metadata": {},
          "output_type": "execute_result"
        }
      ],
      "source": [
        "df.isnull().sum() # There is No Null values"
      ]
    },
    {
      "cell_type": "code",
      "execution_count": null,
      "id": "f1df40a4",
      "metadata": {
        "id": "f1df40a4",
        "outputId": "1997a79e-ea97-4e31-fba5-d97edd2b2e3a"
      },
      "outputs": [
        {
          "data": {
            "text/plain": [
              "0"
            ]
          },
          "execution_count": 248,
          "metadata": {},
          "output_type": "execute_result"
        }
      ],
      "source": [
        "df.duplicated().sum() # There is Zero duplicates"
      ]
    },
    {
      "cell_type": "code",
      "execution_count": null,
      "id": "d104532c",
      "metadata": {
        "id": "d104532c"
      },
      "outputs": [],
      "source": [
        "df.drop('customerID',axis=1,inplace=True) # Dropping Unwanted Column"
      ]
    },
    {
      "cell_type": "code",
      "execution_count": null,
      "id": "d7bc0051",
      "metadata": {
        "id": "d7bc0051",
        "outputId": "470635b9-5d4d-47af-fc9c-4e98514c5a9b"
      },
      "outputs": [
        {
          "data": {
            "text/plain": [
              "Index(['gender', 'SeniorCitizen', 'Partner', 'Dependents', 'tenure',\n",
              "       'PhoneService', 'MultipleLines', 'InternetService', 'OnlineSecurity',\n",
              "       'OnlineBackup', 'DeviceProtection', 'TechSupport', 'StreamingTV',\n",
              "       'StreamingMovies', 'Contract', 'PaperlessBilling', 'PaymentMethod',\n",
              "       'MonthlyCharges', 'TotalCharges', 'Churn'],\n",
              "      dtype='object')"
            ]
          },
          "execution_count": 250,
          "metadata": {},
          "output_type": "execute_result"
        }
      ],
      "source": [
        "df.columns"
      ]
    },
    {
      "cell_type": "markdown",
      "id": "2335cace",
      "metadata": {
        "id": "2335cace"
      },
      "source": [
        "# Visualaization"
      ]
    },
    {
      "cell_type": "code",
      "execution_count": null,
      "id": "23649be8",
      "metadata": {
        "id": "23649be8"
      },
      "outputs": [],
      "source": [
        "# sorting the categorical columns in the variable called cat_columns for ploting the count with respect to the Churn colum\n",
        "cat_columns = list(df.columns)"
      ]
    },
    {
      "cell_type": "code",
      "execution_count": null,
      "id": "a977daf4",
      "metadata": {
        "id": "a977daf4",
        "outputId": "aa7e9306-517e-42d2-ddd0-a87cc9cba145"
      },
      "outputs": [
        {
          "name": "stdout",
          "output_type": "stream",
          "text": [
            "['gender', 'SeniorCitizen', 'Partner', 'Dependents', 'PhoneService', 'MultipleLines', 'InternetService', 'OnlineSecurity', 'OnlineBackup', 'DeviceProtection', 'TechSupport', 'StreamingTV', 'StreamingMovies', 'Contract', 'PaperlessBilling', 'PaymentMethod', 'Churn']\n"
          ]
        }
      ],
      "source": [
        "elements_to_remove = ['tenure','MonthlyCharges','TotalCharges'] # Sorting the unwanted columns in count plot\n",
        "for element in elements_to_remove: # using for loop to remove the columns in the cat columns\n",
        "    cat_columns.remove(element) # with the help of remove function we can remove the elements in the list\n",
        "print(cat_columns) # printing the elements in the list called cat_columns"
      ]
    },
    {
      "cell_type": "code",
      "execution_count": null,
      "id": "af7d9611",
      "metadata": {
        "id": "af7d9611",
        "outputId": "423fdb7e-84b9-4bd6-9941-06d33d8b4d67"
      },
      "outputs": [
        {
          "data": {
            "image/png": "[encoded data removed]",
            "text/plain": [
              "<Figure size 2000x2000 with 17 Axes>"
            ]
          },
          "metadata": {},
          "output_type": "display_data"
        }
      ],
      "source": [
        "plt.figure(figsize=(20,20)) # Setting the size of plots\n",
        "for i,column in enumerate(cat_columns): # using enumarate function in the for loop we trying to iterate over the columns in the cat_columns\n",
        "    plt.subplot(6,3,i+1) # setting the subplots\n",
        "    sns.countplot(x=column,hue='Churn',data=df) # Building the countplot\n",
        "    plt.xlabel(column) # Labeling the X axis with Column name\n",
        "    plt.ylabel('Churn')# Labeling the Y axis with Count\n",
        "    plt.title(f'Churning the People Based on {column}') # title\n",
        "plt.tight_layout() # ensure that all the count plots are well setteld in the size\n",
        "plt.show() # showing the plots"
      ]
    },
    {
      "cell_type": "markdown",
      "id": "29a3d6f7",
      "metadata": {
        "id": "29a3d6f7"
      },
      "source": [
        "## Inferences\n",
        "- **Gender : As Per Gender Column there is no big difference in Churning**\n",
        "- **Sinior Citizen : As Per Gender Sinior Citizen the people who are not senior citizen is having more Churn**\n",
        "- **Partner : The People Who has no Partner is churning more**\n",
        "- **Dependents : The People has no dependents has more churn**\n",
        "- **Phone Services : People who are having Phone services has more churn**\n",
        "- **Multiple Lines : People who has no Phone services has churning less**\n",
        "- **Internet Services : People who has Fiber Optic Services is having more Churn**\n",
        "- **Online Security : People who not having Online security has churning more, may be the cencerns about their privacy**\n",
        "- **Online Backup : People who not having Online Backup has churning more**\n",
        "- **Device Protection : People who not having Device Protection has churning more**\n",
        "- **Tech Support : People who not having Tech Support has churning more**\n",
        "- **Streaming TV : People woh has not facility of Streaming TV is Churning More**\n",
        "- **Streaming Movies : People woh has not facility of Streaming Movies is Churning More**\n",
        "- **Contract : People woh has month to month subcription is Churning More**\n",
        "- **Paperless Billing : People who hase Paperless Billing has churning more, may be the people who has paper bill not have any concernce about their expenditure towords the telephone services**\n",
        "- **Payment Method : The Electronic Check Payment method has highest Churning comparing to the others**\n",
        "- **Churn : Overall Churning is less than the entaire population in the dataset**"
      ]
    },
    {
      "cell_type": "markdown",
      "id": "6230ccb3",
      "metadata": {
        "id": "6230ccb3"
      },
      "source": [
        "## Tasks To Be Performed:"
      ]
    },
    {
      "cell_type": "markdown",
      "id": "6c8abcd2",
      "metadata": {
        "id": "6c8abcd2"
      },
      "source": [
        "### 1. Data Manipulation:"
      ]
    },
    {
      "cell_type": "code",
      "execution_count": null,
      "id": "7c2927da",
      "metadata": {
        "id": "7c2927da"
      },
      "outputs": [],
      "source": [
        "# ● Extract the 5th column and store it in ‘customer_5’\n",
        "customer_5 = df.iloc[:,4].reset_index()\n",
        "customer_5.drop('index',axis=1,inplace=True)"
      ]
    },
    {
      "cell_type": "code",
      "execution_count": null,
      "id": "aee03311",
      "metadata": {
        "id": "aee03311",
        "outputId": "81769854-1694-4b84-aca9-83347c91be8a"
      },
      "outputs": [
        {
          "data": {
            "text/html": [
              "<div>\n",
              "<style scoped>\n",
              "    .dataframe tbody tr th:only-of-type {\n",
              "        vertical-align: middle;\n",
              "    }\n",
              "\n",
              "    .dataframe tbody tr th {\n",
              "        vertical-align: top;\n",
              "    }\n",
              "\n",
              "    .dataframe thead th {\n",
              "        text-align: right;\n",
              "    }\n",
              "</style>\n",
              "<table border=\"1\" class=\"dataframe\">\n",
              "  <thead>\n",
              "    <tr style=\"text-align: right;\">\n",
              "      <th></th>\n",
              "      <th>tenure</th>\n",
              "    </tr>\n",
              "  </thead>\n",
              "  <tbody>\n",
              "    <tr>\n",
              "      <th>0</th>\n",
              "      <td>1</td>\n",
              "    </tr>\n",
              "    <tr>\n",
              "      <th>1</th>\n",
              "      <td>34</td>\n",
              "    </tr>\n",
              "    <tr>\n",
              "      <th>2</th>\n",
              "      <td>2</td>\n",
              "    </tr>\n",
              "    <tr>\n",
              "      <th>3</th>\n",
              "      <td>45</td>\n",
              "    </tr>\n",
              "    <tr>\n",
              "      <th>4</th>\n",
              "      <td>2</td>\n",
              "    </tr>\n",
              "    <tr>\n",
              "      <th>...</th>\n",
              "      <td>...</td>\n",
              "    </tr>\n",
              "    <tr>\n",
              "      <th>7038</th>\n",
              "      <td>24</td>\n",
              "    </tr>\n",
              "    <tr>\n",
              "      <th>7039</th>\n",
              "      <td>72</td>\n",
              "    </tr>\n",
              "    <tr>\n",
              "      <th>7040</th>\n",
              "      <td>11</td>\n",
              "    </tr>\n",
              "    <tr>\n",
              "      <th>7041</th>\n",
              "      <td>4</td>\n",
              "    </tr>\n",
              "    <tr>\n",
              "      <th>7042</th>\n",
              "      <td>66</td>\n",
              "    </tr>\n",
              "  </tbody>\n",
              "</table>\n",
              "<p>7043 rows × 1 columns</p>\n",
              "</div>"
            ],
            "text/plain": [
              "      tenure\n",
              "0          1\n",
              "1         34\n",
              "2          2\n",
              "3         45\n",
              "4          2\n",
              "...      ...\n",
              "7038      24\n",
              "7039      72\n",
              "7040      11\n",
              "7041       4\n",
              "7042      66\n",
              "\n",
              "[7043 rows x 1 columns]"
            ]
          },
          "execution_count": 255,
          "metadata": {},
          "output_type": "execute_result"
        }
      ],
      "source": [
        "customer_5"
      ]
    },
    {
      "cell_type": "code",
      "execution_count": null,
      "id": "12a2b4dd",
      "metadata": {
        "id": "12a2b4dd"
      },
      "outputs": [],
      "source": [
        "# ● Extract the 15th column and store it in ‘customer_15’\n",
        "# ● Extract the 5th column and store it in ‘customer_5’\n",
        "customer_15 = df.iloc[:,14].reset_index() # Creating a new dataframe called customer_15 as asked in the qustion\n",
        "customer_15.drop('index',axis=1,inplace=True) # Removing the index column which is no longer needed"
      ]
    },
    {
      "cell_type": "code",
      "execution_count": null,
      "id": "dfce28a3",
      "metadata": {
        "id": "dfce28a3",
        "outputId": "d58fd049-9bc3-48eb-e934-72366d032dbc"
      },
      "outputs": [
        {
          "data": {
            "text/html": [
              "<div>\n",
              "<style scoped>\n",
              "    .dataframe tbody tr th:only-of-type {\n",
              "        vertical-align: middle;\n",
              "    }\n",
              "\n",
              "    .dataframe tbody tr th {\n",
              "        vertical-align: top;\n",
              "    }\n",
              "\n",
              "    .dataframe thead th {\n",
              "        text-align: right;\n",
              "    }\n",
              "</style>\n",
              "<table border=\"1\" class=\"dataframe\">\n",
              "  <thead>\n",
              "    <tr style=\"text-align: right;\">\n",
              "      <th></th>\n",
              "      <th>Contract</th>\n",
              "    </tr>\n",
              "  </thead>\n",
              "  <tbody>\n",
              "    <tr>\n",
              "      <th>0</th>\n",
              "      <td>Month-to-month</td>\n",
              "    </tr>\n",
              "    <tr>\n",
              "      <th>1</th>\n",
              "      <td>One year</td>\n",
              "    </tr>\n",
              "    <tr>\n",
              "      <th>2</th>\n",
              "      <td>Month-to-month</td>\n",
              "    </tr>\n",
              "    <tr>\n",
              "      <th>3</th>\n",
              "      <td>One year</td>\n",
              "    </tr>\n",
              "    <tr>\n",
              "      <th>4</th>\n",
              "      <td>Month-to-month</td>\n",
              "    </tr>\n",
              "    <tr>\n",
              "      <th>...</th>\n",
              "      <td>...</td>\n",
              "    </tr>\n",
              "    <tr>\n",
              "      <th>7038</th>\n",
              "      <td>One year</td>\n",
              "    </tr>\n",
              "    <tr>\n",
              "      <th>7039</th>\n",
              "      <td>One year</td>\n",
              "    </tr>\n",
              "    <tr>\n",
              "      <th>7040</th>\n",
              "      <td>Month-to-month</td>\n",
              "    </tr>\n",
              "    <tr>\n",
              "      <th>7041</th>\n",
              "      <td>Month-to-month</td>\n",
              "    </tr>\n",
              "    <tr>\n",
              "      <th>7042</th>\n",
              "      <td>Two year</td>\n",
              "    </tr>\n",
              "  </tbody>\n",
              "</table>\n",
              "<p>7043 rows × 1 columns</p>\n",
              "</div>"
            ],
            "text/plain": [
              "            Contract\n",
              "0     Month-to-month\n",
              "1           One year\n",
              "2     Month-to-month\n",
              "3           One year\n",
              "4     Month-to-month\n",
              "...              ...\n",
              "7038        One year\n",
              "7039        One year\n",
              "7040  Month-to-month\n",
              "7041  Month-to-month\n",
              "7042        Two year\n",
              "\n",
              "[7043 rows x 1 columns]"
            ]
          },
          "execution_count": 257,
          "metadata": {},
          "output_type": "execute_result"
        }
      ],
      "source": [
        "customer_15 # Exploring the Dataframe"
      ]
    },
    {
      "cell_type": "code",
      "execution_count": null,
      "id": "b8a83e80",
      "metadata": {
        "id": "b8a83e80",
        "outputId": "143c3db5-0405-4de5-bb4d-8084f2d70e76"
      },
      "outputs": [
        {
          "data": {
            "text/html": [
              "<div>\n",
              "<style scoped>\n",
              "    .dataframe tbody tr th:only-of-type {\n",
              "        vertical-align: middle;\n",
              "    }\n",
              "\n",
              "    .dataframe tbody tr th {\n",
              "        vertical-align: top;\n",
              "    }\n",
              "\n",
              "    .dataframe thead th {\n",
              "        text-align: right;\n",
              "    }\n",
              "</style>\n",
              "<table border=\"1\" class=\"dataframe\">\n",
              "  <thead>\n",
              "    <tr style=\"text-align: right;\">\n",
              "      <th></th>\n",
              "      <th>gender</th>\n",
              "      <th>SeniorCitizen</th>\n",
              "      <th>Partner</th>\n",
              "      <th>Dependents</th>\n",
              "      <th>tenure</th>\n",
              "      <th>PhoneService</th>\n",
              "      <th>MultipleLines</th>\n",
              "      <th>InternetService</th>\n",
              "      <th>OnlineSecurity</th>\n",
              "      <th>OnlineBackup</th>\n",
              "      <th>DeviceProtection</th>\n",
              "      <th>TechSupport</th>\n",
              "      <th>StreamingTV</th>\n",
              "      <th>StreamingMovies</th>\n",
              "      <th>Contract</th>\n",
              "      <th>PaperlessBilling</th>\n",
              "      <th>PaymentMethod</th>\n",
              "      <th>MonthlyCharges</th>\n",
              "      <th>TotalCharges</th>\n",
              "      <th>Churn</th>\n",
              "    </tr>\n",
              "  </thead>\n",
              "  <tbody>\n",
              "    <tr>\n",
              "      <th>20</th>\n",
              "      <td>Male</td>\n",
              "      <td>1</td>\n",
              "      <td>No</td>\n",
              "      <td>No</td>\n",
              "      <td>1</td>\n",
              "      <td>No</td>\n",
              "      <td>No phone service</td>\n",
              "      <td>DSL</td>\n",
              "      <td>No</td>\n",
              "      <td>No</td>\n",
              "      <td>Yes</td>\n",
              "      <td>No</td>\n",
              "      <td>No</td>\n",
              "      <td>Yes</td>\n",
              "      <td>Month-to-month</td>\n",
              "      <td>Yes</td>\n",
              "      <td>Electronic check</td>\n",
              "      <td>39.65</td>\n",
              "      <td>39.65</td>\n",
              "      <td>Yes</td>\n",
              "    </tr>\n",
              "    <tr>\n",
              "      <th>55</th>\n",
              "      <td>Male</td>\n",
              "      <td>1</td>\n",
              "      <td>No</td>\n",
              "      <td>No</td>\n",
              "      <td>18</td>\n",
              "      <td>Yes</td>\n",
              "      <td>Yes</td>\n",
              "      <td>Fiber optic</td>\n",
              "      <td>No</td>\n",
              "      <td>No</td>\n",
              "      <td>No</td>\n",
              "      <td>No</td>\n",
              "      <td>Yes</td>\n",
              "      <td>Yes</td>\n",
              "      <td>Month-to-month</td>\n",
              "      <td>Yes</td>\n",
              "      <td>Electronic check</td>\n",
              "      <td>95.45</td>\n",
              "      <td>1752.55</td>\n",
              "      <td>Yes</td>\n",
              "    </tr>\n",
              "    <tr>\n",
              "      <th>57</th>\n",
              "      <td>Male</td>\n",
              "      <td>1</td>\n",
              "      <td>Yes</td>\n",
              "      <td>Yes</td>\n",
              "      <td>66</td>\n",
              "      <td>Yes</td>\n",
              "      <td>Yes</td>\n",
              "      <td>Fiber optic</td>\n",
              "      <td>No</td>\n",
              "      <td>Yes</td>\n",
              "      <td>Yes</td>\n",
              "      <td>Yes</td>\n",
              "      <td>Yes</td>\n",
              "      <td>Yes</td>\n",
              "      <td>One year</td>\n",
              "      <td>Yes</td>\n",
              "      <td>Electronic check</td>\n",
              "      <td>108.45</td>\n",
              "      <td>7076.35</td>\n",
              "      <td>No</td>\n",
              "    </tr>\n",
              "    <tr>\n",
              "      <th>78</th>\n",
              "      <td>Male</td>\n",
              "      <td>1</td>\n",
              "      <td>No</td>\n",
              "      <td>No</td>\n",
              "      <td>30</td>\n",
              "      <td>Yes</td>\n",
              "      <td>No</td>\n",
              "      <td>DSL</td>\n",
              "      <td>Yes</td>\n",
              "      <td>Yes</td>\n",
              "      <td>No</td>\n",
              "      <td>No</td>\n",
              "      <td>Yes</td>\n",
              "      <td>Yes</td>\n",
              "      <td>Month-to-month</td>\n",
              "      <td>Yes</td>\n",
              "      <td>Electronic check</td>\n",
              "      <td>74.75</td>\n",
              "      <td>2111.3</td>\n",
              "      <td>No</td>\n",
              "    </tr>\n",
              "    <tr>\n",
              "      <th>91</th>\n",
              "      <td>Male</td>\n",
              "      <td>1</td>\n",
              "      <td>No</td>\n",
              "      <td>No</td>\n",
              "      <td>1</td>\n",
              "      <td>Yes</td>\n",
              "      <td>No</td>\n",
              "      <td>Fiber optic</td>\n",
              "      <td>No</td>\n",
              "      <td>No</td>\n",
              "      <td>No</td>\n",
              "      <td>Yes</td>\n",
              "      <td>No</td>\n",
              "      <td>No</td>\n",
              "      <td>Month-to-month</td>\n",
              "      <td>No</td>\n",
              "      <td>Electronic check</td>\n",
              "      <td>74.70</td>\n",
              "      <td>74.7</td>\n",
              "      <td>No</td>\n",
              "    </tr>\n",
              "    <tr>\n",
              "      <th>...</th>\n",
              "      <td>...</td>\n",
              "      <td>...</td>\n",
              "      <td>...</td>\n",
              "      <td>...</td>\n",
              "      <td>...</td>\n",
              "      <td>...</td>\n",
              "      <td>...</td>\n",
              "      <td>...</td>\n",
              "      <td>...</td>\n",
              "      <td>...</td>\n",
              "      <td>...</td>\n",
              "      <td>...</td>\n",
              "      <td>...</td>\n",
              "      <td>...</td>\n",
              "      <td>...</td>\n",
              "      <td>...</td>\n",
              "      <td>...</td>\n",
              "      <td>...</td>\n",
              "      <td>...</td>\n",
              "      <td>...</td>\n",
              "    </tr>\n",
              "    <tr>\n",
              "      <th>6837</th>\n",
              "      <td>Male</td>\n",
              "      <td>1</td>\n",
              "      <td>No</td>\n",
              "      <td>No</td>\n",
              "      <td>6</td>\n",
              "      <td>Yes</td>\n",
              "      <td>No</td>\n",
              "      <td>Fiber optic</td>\n",
              "      <td>No</td>\n",
              "      <td>No</td>\n",
              "      <td>No</td>\n",
              "      <td>No</td>\n",
              "      <td>Yes</td>\n",
              "      <td>No</td>\n",
              "      <td>Month-to-month</td>\n",
              "      <td>Yes</td>\n",
              "      <td>Electronic check</td>\n",
              "      <td>79.70</td>\n",
              "      <td>497.6</td>\n",
              "      <td>No</td>\n",
              "    </tr>\n",
              "    <tr>\n",
              "      <th>6894</th>\n",
              "      <td>Male</td>\n",
              "      <td>1</td>\n",
              "      <td>Yes</td>\n",
              "      <td>No</td>\n",
              "      <td>3</td>\n",
              "      <td>Yes</td>\n",
              "      <td>Yes</td>\n",
              "      <td>Fiber optic</td>\n",
              "      <td>No</td>\n",
              "      <td>Yes</td>\n",
              "      <td>Yes</td>\n",
              "      <td>No</td>\n",
              "      <td>Yes</td>\n",
              "      <td>Yes</td>\n",
              "      <td>Month-to-month</td>\n",
              "      <td>Yes</td>\n",
              "      <td>Electronic check</td>\n",
              "      <td>105.90</td>\n",
              "      <td>334.65</td>\n",
              "      <td>Yes</td>\n",
              "    </tr>\n",
              "    <tr>\n",
              "      <th>6914</th>\n",
              "      <td>Male</td>\n",
              "      <td>1</td>\n",
              "      <td>Yes</td>\n",
              "      <td>No</td>\n",
              "      <td>43</td>\n",
              "      <td>Yes</td>\n",
              "      <td>Yes</td>\n",
              "      <td>Fiber optic</td>\n",
              "      <td>No</td>\n",
              "      <td>Yes</td>\n",
              "      <td>Yes</td>\n",
              "      <td>No</td>\n",
              "      <td>Yes</td>\n",
              "      <td>Yes</td>\n",
              "      <td>Month-to-month</td>\n",
              "      <td>Yes</td>\n",
              "      <td>Electronic check</td>\n",
              "      <td>103.00</td>\n",
              "      <td>4414.3</td>\n",
              "      <td>Yes</td>\n",
              "    </tr>\n",
              "    <tr>\n",
              "      <th>6967</th>\n",
              "      <td>Male</td>\n",
              "      <td>1</td>\n",
              "      <td>No</td>\n",
              "      <td>No</td>\n",
              "      <td>25</td>\n",
              "      <td>Yes</td>\n",
              "      <td>Yes</td>\n",
              "      <td>Fiber optic</td>\n",
              "      <td>No</td>\n",
              "      <td>Yes</td>\n",
              "      <td>No</td>\n",
              "      <td>No</td>\n",
              "      <td>Yes</td>\n",
              "      <td>No</td>\n",
              "      <td>Month-to-month</td>\n",
              "      <td>Yes</td>\n",
              "      <td>Electronic check</td>\n",
              "      <td>89.50</td>\n",
              "      <td>2196.15</td>\n",
              "      <td>Yes</td>\n",
              "    </tr>\n",
              "    <tr>\n",
              "      <th>7032</th>\n",
              "      <td>Male</td>\n",
              "      <td>1</td>\n",
              "      <td>No</td>\n",
              "      <td>No</td>\n",
              "      <td>1</td>\n",
              "      <td>Yes</td>\n",
              "      <td>Yes</td>\n",
              "      <td>Fiber optic</td>\n",
              "      <td>No</td>\n",
              "      <td>No</td>\n",
              "      <td>No</td>\n",
              "      <td>No</td>\n",
              "      <td>No</td>\n",
              "      <td>No</td>\n",
              "      <td>Month-to-month</td>\n",
              "      <td>Yes</td>\n",
              "      <td>Electronic check</td>\n",
              "      <td>75.75</td>\n",
              "      <td>75.75</td>\n",
              "      <td>Yes</td>\n",
              "    </tr>\n",
              "  </tbody>\n",
              "</table>\n",
              "<p>298 rows × 20 columns</p>\n",
              "</div>"
            ],
            "text/plain": [
              "     gender  SeniorCitizen Partner Dependents  tenure PhoneService  \\\n",
              "20     Male              1      No         No       1           No   \n",
              "55     Male              1      No         No      18          Yes   \n",
              "57     Male              1     Yes        Yes      66          Yes   \n",
              "78     Male              1      No         No      30          Yes   \n",
              "91     Male              1      No         No       1          Yes   \n",
              "...     ...            ...     ...        ...     ...          ...   \n",
              "6837   Male              1      No         No       6          Yes   \n",
              "6894   Male              1     Yes         No       3          Yes   \n",
              "6914   Male              1     Yes         No      43          Yes   \n",
              "6967   Male              1      No         No      25          Yes   \n",
              "7032   Male              1      No         No       1          Yes   \n",
              "\n",
              "         MultipleLines InternetService OnlineSecurity OnlineBackup  \\\n",
              "20    No phone service             DSL             No           No   \n",
              "55                 Yes     Fiber optic             No           No   \n",
              "57                 Yes     Fiber optic             No          Yes   \n",
              "78                  No             DSL            Yes          Yes   \n",
              "91                  No     Fiber optic             No           No   \n",
              "...                ...             ...            ...          ...   \n",
              "6837                No     Fiber optic             No           No   \n",
              "6894               Yes     Fiber optic             No          Yes   \n",
              "6914               Yes     Fiber optic             No          Yes   \n",
              "6967               Yes     Fiber optic             No          Yes   \n",
              "7032               Yes     Fiber optic             No           No   \n",
              "\n",
              "     DeviceProtection TechSupport StreamingTV StreamingMovies        Contract  \\\n",
              "20                Yes          No          No             Yes  Month-to-month   \n",
              "55                 No          No         Yes             Yes  Month-to-month   \n",
              "57                Yes         Yes         Yes             Yes        One year   \n",
              "78                 No          No         Yes             Yes  Month-to-month   \n",
              "91                 No         Yes          No              No  Month-to-month   \n",
              "...               ...         ...         ...             ...             ...   \n",
              "6837               No          No         Yes              No  Month-to-month   \n",
              "6894              Yes          No         Yes             Yes  Month-to-month   \n",
              "6914              Yes          No         Yes             Yes  Month-to-month   \n",
              "6967               No          No         Yes              No  Month-to-month   \n",
              "7032               No          No          No              No  Month-to-month   \n",
              "\n",
              "     PaperlessBilling     PaymentMethod  MonthlyCharges TotalCharges Churn  \n",
              "20                Yes  Electronic check           39.65        39.65   Yes  \n",
              "55                Yes  Electronic check           95.45      1752.55   Yes  \n",
              "57                Yes  Electronic check          108.45      7076.35    No  \n",
              "78                Yes  Electronic check           74.75       2111.3    No  \n",
              "91                 No  Electronic check           74.70         74.7    No  \n",
              "...               ...               ...             ...          ...   ...  \n",
              "6837              Yes  Electronic check           79.70        497.6    No  \n",
              "6894              Yes  Electronic check          105.90       334.65   Yes  \n",
              "6914              Yes  Electronic check          103.00       4414.3   Yes  \n",
              "6967              Yes  Electronic check           89.50      2196.15   Yes  \n",
              "7032              Yes  Electronic check           75.75        75.75   Yes  \n",
              "\n",
              "[298 rows x 20 columns]"
            ]
          },
          "execution_count": 258,
          "metadata": {},
          "output_type": "execute_result"
        }
      ],
      "source": [
        "# ● Extract all the male senior citizens whose payment method is electronic check and store the result in ‘senior_male_electronic’\n",
        "senior_male_electronic = df.loc[(df['gender']=='Male')&(df['SeniorCitizen']==1)&(df['PaymentMethod']=='Electronic check')]\n",
        "senior_male_electronic"
      ]
    },
    {
      "cell_type": "code",
      "execution_count": null,
      "id": "38f666ad",
      "metadata": {
        "id": "38f666ad",
        "outputId": "e8247138-cae5-4334-ceff-8b5d9977a1c9"
      },
      "outputs": [
        {
          "data": {
            "text/html": [
              "<div>\n",
              "<style scoped>\n",
              "    .dataframe tbody tr th:only-of-type {\n",
              "        vertical-align: middle;\n",
              "    }\n",
              "\n",
              "    .dataframe tbody tr th {\n",
              "        vertical-align: top;\n",
              "    }\n",
              "\n",
              "    .dataframe thead th {\n",
              "        text-align: right;\n",
              "    }\n",
              "</style>\n",
              "<table border=\"1\" class=\"dataframe\">\n",
              "  <thead>\n",
              "    <tr style=\"text-align: right;\">\n",
              "      <th></th>\n",
              "      <th>gender</th>\n",
              "      <th>SeniorCitizen</th>\n",
              "      <th>Partner</th>\n",
              "      <th>Dependents</th>\n",
              "      <th>tenure</th>\n",
              "      <th>PhoneService</th>\n",
              "      <th>MultipleLines</th>\n",
              "      <th>InternetService</th>\n",
              "      <th>OnlineSecurity</th>\n",
              "      <th>OnlineBackup</th>\n",
              "      <th>DeviceProtection</th>\n",
              "      <th>TechSupport</th>\n",
              "      <th>StreamingTV</th>\n",
              "      <th>StreamingMovies</th>\n",
              "      <th>Contract</th>\n",
              "      <th>PaperlessBilling</th>\n",
              "      <th>PaymentMethod</th>\n",
              "      <th>MonthlyCharges</th>\n",
              "      <th>TotalCharges</th>\n",
              "      <th>Churn</th>\n",
              "    </tr>\n",
              "  </thead>\n",
              "  <tbody>\n",
              "    <tr>\n",
              "      <th>8</th>\n",
              "      <td>Female</td>\n",
              "      <td>0</td>\n",
              "      <td>Yes</td>\n",
              "      <td>No</td>\n",
              "      <td>28</td>\n",
              "      <td>Yes</td>\n",
              "      <td>Yes</td>\n",
              "      <td>Fiber optic</td>\n",
              "      <td>No</td>\n",
              "      <td>No</td>\n",
              "      <td>Yes</td>\n",
              "      <td>Yes</td>\n",
              "      <td>Yes</td>\n",
              "      <td>Yes</td>\n",
              "      <td>Month-to-month</td>\n",
              "      <td>Yes</td>\n",
              "      <td>Electronic check</td>\n",
              "      <td>104.80</td>\n",
              "      <td>3046.05</td>\n",
              "      <td>Yes</td>\n",
              "    </tr>\n",
              "    <tr>\n",
              "      <th>12</th>\n",
              "      <td>Male</td>\n",
              "      <td>0</td>\n",
              "      <td>Yes</td>\n",
              "      <td>No</td>\n",
              "      <td>58</td>\n",
              "      <td>Yes</td>\n",
              "      <td>Yes</td>\n",
              "      <td>Fiber optic</td>\n",
              "      <td>No</td>\n",
              "      <td>No</td>\n",
              "      <td>Yes</td>\n",
              "      <td>No</td>\n",
              "      <td>Yes</td>\n",
              "      <td>Yes</td>\n",
              "      <td>One year</td>\n",
              "      <td>No</td>\n",
              "      <td>Credit card (automatic)</td>\n",
              "      <td>100.35</td>\n",
              "      <td>5681.1</td>\n",
              "      <td>No</td>\n",
              "    </tr>\n",
              "    <tr>\n",
              "      <th>13</th>\n",
              "      <td>Male</td>\n",
              "      <td>0</td>\n",
              "      <td>No</td>\n",
              "      <td>No</td>\n",
              "      <td>49</td>\n",
              "      <td>Yes</td>\n",
              "      <td>Yes</td>\n",
              "      <td>Fiber optic</td>\n",
              "      <td>No</td>\n",
              "      <td>Yes</td>\n",
              "      <td>Yes</td>\n",
              "      <td>No</td>\n",
              "      <td>Yes</td>\n",
              "      <td>Yes</td>\n",
              "      <td>Month-to-month</td>\n",
              "      <td>Yes</td>\n",
              "      <td>Bank transfer (automatic)</td>\n",
              "      <td>103.70</td>\n",
              "      <td>5036.3</td>\n",
              "      <td>Yes</td>\n",
              "    </tr>\n",
              "    <tr>\n",
              "      <th>14</th>\n",
              "      <td>Male</td>\n",
              "      <td>0</td>\n",
              "      <td>No</td>\n",
              "      <td>No</td>\n",
              "      <td>25</td>\n",
              "      <td>Yes</td>\n",
              "      <td>No</td>\n",
              "      <td>Fiber optic</td>\n",
              "      <td>Yes</td>\n",
              "      <td>No</td>\n",
              "      <td>Yes</td>\n",
              "      <td>Yes</td>\n",
              "      <td>Yes</td>\n",
              "      <td>Yes</td>\n",
              "      <td>Month-to-month</td>\n",
              "      <td>Yes</td>\n",
              "      <td>Electronic check</td>\n",
              "      <td>105.50</td>\n",
              "      <td>2686.05</td>\n",
              "      <td>No</td>\n",
              "    </tr>\n",
              "    <tr>\n",
              "      <th>15</th>\n",
              "      <td>Female</td>\n",
              "      <td>0</td>\n",
              "      <td>Yes</td>\n",
              "      <td>Yes</td>\n",
              "      <td>69</td>\n",
              "      <td>Yes</td>\n",
              "      <td>Yes</td>\n",
              "      <td>Fiber optic</td>\n",
              "      <td>Yes</td>\n",
              "      <td>Yes</td>\n",
              "      <td>Yes</td>\n",
              "      <td>Yes</td>\n",
              "      <td>Yes</td>\n",
              "      <td>Yes</td>\n",
              "      <td>Two year</td>\n",
              "      <td>No</td>\n",
              "      <td>Credit card (automatic)</td>\n",
              "      <td>113.25</td>\n",
              "      <td>7895.15</td>\n",
              "      <td>No</td>\n",
              "    </tr>\n",
              "    <tr>\n",
              "      <th>...</th>\n",
              "      <td>...</td>\n",
              "      <td>...</td>\n",
              "      <td>...</td>\n",
              "      <td>...</td>\n",
              "      <td>...</td>\n",
              "      <td>...</td>\n",
              "      <td>...</td>\n",
              "      <td>...</td>\n",
              "      <td>...</td>\n",
              "      <td>...</td>\n",
              "      <td>...</td>\n",
              "      <td>...</td>\n",
              "      <td>...</td>\n",
              "      <td>...</td>\n",
              "      <td>...</td>\n",
              "      <td>...</td>\n",
              "      <td>...</td>\n",
              "      <td>...</td>\n",
              "      <td>...</td>\n",
              "      <td>...</td>\n",
              "    </tr>\n",
              "    <tr>\n",
              "      <th>511</th>\n",
              "      <td>Male</td>\n",
              "      <td>0</td>\n",
              "      <td>No</td>\n",
              "      <td>No</td>\n",
              "      <td>61</td>\n",
              "      <td>Yes</td>\n",
              "      <td>Yes</td>\n",
              "      <td>Fiber optic</td>\n",
              "      <td>Yes</td>\n",
              "      <td>No</td>\n",
              "      <td>Yes</td>\n",
              "      <td>No</td>\n",
              "      <td>Yes</td>\n",
              "      <td>Yes</td>\n",
              "      <td>Month-to-month</td>\n",
              "      <td>Yes</td>\n",
              "      <td>Electronic check</td>\n",
              "      <td>106.45</td>\n",
              "      <td>6300.15</td>\n",
              "      <td>No</td>\n",
              "    </tr>\n",
              "    <tr>\n",
              "      <th>513</th>\n",
              "      <td>Female</td>\n",
              "      <td>0</td>\n",
              "      <td>No</td>\n",
              "      <td>No</td>\n",
              "      <td>56</td>\n",
              "      <td>Yes</td>\n",
              "      <td>Yes</td>\n",
              "      <td>Fiber optic</td>\n",
              "      <td>No</td>\n",
              "      <td>Yes</td>\n",
              "      <td>No</td>\n",
              "      <td>Yes</td>\n",
              "      <td>Yes</td>\n",
              "      <td>Yes</td>\n",
              "      <td>Month-to-month</td>\n",
              "      <td>Yes</td>\n",
              "      <td>Bank transfer (automatic)</td>\n",
              "      <td>105.45</td>\n",
              "      <td>5916.95</td>\n",
              "      <td>No</td>\n",
              "    </tr>\n",
              "    <tr>\n",
              "      <th>515</th>\n",
              "      <td>Male</td>\n",
              "      <td>0</td>\n",
              "      <td>No</td>\n",
              "      <td>No</td>\n",
              "      <td>40</td>\n",
              "      <td>Yes</td>\n",
              "      <td>Yes</td>\n",
              "      <td>Fiber optic</td>\n",
              "      <td>No</td>\n",
              "      <td>No</td>\n",
              "      <td>Yes</td>\n",
              "      <td>Yes</td>\n",
              "      <td>Yes</td>\n",
              "      <td>Yes</td>\n",
              "      <td>Month-to-month</td>\n",
              "      <td>No</td>\n",
              "      <td>Bank transfer (automatic)</td>\n",
              "      <td>104.80</td>\n",
              "      <td>4131.95</td>\n",
              "      <td>Yes</td>\n",
              "    </tr>\n",
              "    <tr>\n",
              "      <th>520</th>\n",
              "      <td>Male</td>\n",
              "      <td>0</td>\n",
              "      <td>Yes</td>\n",
              "      <td>Yes</td>\n",
              "      <td>67</td>\n",
              "      <td>Yes</td>\n",
              "      <td>Yes</td>\n",
              "      <td>Fiber optic</td>\n",
              "      <td>No</td>\n",
              "      <td>Yes</td>\n",
              "      <td>Yes</td>\n",
              "      <td>No</td>\n",
              "      <td>Yes</td>\n",
              "      <td>Yes</td>\n",
              "      <td>One year</td>\n",
              "      <td>Yes</td>\n",
              "      <td>Electronic check</td>\n",
              "      <td>105.40</td>\n",
              "      <td>6989.45</td>\n",
              "      <td>No</td>\n",
              "    </tr>\n",
              "    <tr>\n",
              "      <th>524</th>\n",
              "      <td>Male</td>\n",
              "      <td>0</td>\n",
              "      <td>Yes</td>\n",
              "      <td>No</td>\n",
              "      <td>34</td>\n",
              "      <td>Yes</td>\n",
              "      <td>Yes</td>\n",
              "      <td>Fiber optic</td>\n",
              "      <td>No</td>\n",
              "      <td>No</td>\n",
              "      <td>Yes</td>\n",
              "      <td>No</td>\n",
              "      <td>Yes</td>\n",
              "      <td>Yes</td>\n",
              "      <td>Month-to-month</td>\n",
              "      <td>Yes</td>\n",
              "      <td>Electronic check</td>\n",
              "      <td>100.05</td>\n",
              "      <td>3480</td>\n",
              "      <td>Yes</td>\n",
              "    </tr>\n",
              "  </tbody>\n",
              "</table>\n",
              "<p>100 rows × 20 columns</p>\n",
              "</div>"
            ],
            "text/plain": [
              "     gender  SeniorCitizen Partner Dependents  tenure PhoneService  \\\n",
              "8    Female              0     Yes         No      28          Yes   \n",
              "12     Male              0     Yes         No      58          Yes   \n",
              "13     Male              0      No         No      49          Yes   \n",
              "14     Male              0      No         No      25          Yes   \n",
              "15   Female              0     Yes        Yes      69          Yes   \n",
              "..      ...            ...     ...        ...     ...          ...   \n",
              "511    Male              0      No         No      61          Yes   \n",
              "513  Female              0      No         No      56          Yes   \n",
              "515    Male              0      No         No      40          Yes   \n",
              "520    Male              0     Yes        Yes      67          Yes   \n",
              "524    Male              0     Yes         No      34          Yes   \n",
              "\n",
              "    MultipleLines InternetService OnlineSecurity OnlineBackup  \\\n",
              "8             Yes     Fiber optic             No           No   \n",
              "12            Yes     Fiber optic             No           No   \n",
              "13            Yes     Fiber optic             No          Yes   \n",
              "14             No     Fiber optic            Yes           No   \n",
              "15            Yes     Fiber optic            Yes          Yes   \n",
              "..            ...             ...            ...          ...   \n",
              "511           Yes     Fiber optic            Yes           No   \n",
              "513           Yes     Fiber optic             No          Yes   \n",
              "515           Yes     Fiber optic             No           No   \n",
              "520           Yes     Fiber optic             No          Yes   \n",
              "524           Yes     Fiber optic             No           No   \n",
              "\n",
              "    DeviceProtection TechSupport StreamingTV StreamingMovies        Contract  \\\n",
              "8                Yes         Yes         Yes             Yes  Month-to-month   \n",
              "12               Yes          No         Yes             Yes        One year   \n",
              "13               Yes          No         Yes             Yes  Month-to-month   \n",
              "14               Yes         Yes         Yes             Yes  Month-to-month   \n",
              "15               Yes         Yes         Yes             Yes        Two year   \n",
              "..               ...         ...         ...             ...             ...   \n",
              "511              Yes          No         Yes             Yes  Month-to-month   \n",
              "513               No         Yes         Yes             Yes  Month-to-month   \n",
              "515              Yes         Yes         Yes             Yes  Month-to-month   \n",
              "520              Yes          No         Yes             Yes        One year   \n",
              "524              Yes          No         Yes             Yes  Month-to-month   \n",
              "\n",
              "    PaperlessBilling              PaymentMethod  MonthlyCharges TotalCharges  \\\n",
              "8                Yes           Electronic check          104.80      3046.05   \n",
              "12                No    Credit card (automatic)          100.35       5681.1   \n",
              "13               Yes  Bank transfer (automatic)          103.70       5036.3   \n",
              "14               Yes           Electronic check          105.50      2686.05   \n",
              "15                No    Credit card (automatic)          113.25      7895.15   \n",
              "..               ...                        ...             ...          ...   \n",
              "511              Yes           Electronic check          106.45      6300.15   \n",
              "513              Yes  Bank transfer (automatic)          105.45      5916.95   \n",
              "515               No  Bank transfer (automatic)          104.80      4131.95   \n",
              "520              Yes           Electronic check          105.40      6989.45   \n",
              "524              Yes           Electronic check          100.05         3480   \n",
              "\n",
              "    Churn  \n",
              "8     Yes  \n",
              "12     No  \n",
              "13    Yes  \n",
              "14     No  \n",
              "15     No  \n",
              "..    ...  \n",
              "511    No  \n",
              "513    No  \n",
              "515   Yes  \n",
              "520    No  \n",
              "524   Yes  \n",
              "\n",
              "[100 rows x 20 columns]"
            ]
          },
          "execution_count": 259,
          "metadata": {},
          "output_type": "execute_result"
        }
      ],
      "source": [
        "# Extract all those customers whose tenure is greater than 70 months or\n",
        "# their monthly charges is more than $100 and store the result in ‘customer_total_tenure’\n",
        "customer_total_tenure = df.loc[(df['tenure']>70)|(df['MonthlyCharges']>100)]\n",
        "customer_total_tenure.head(100)"
      ]
    },
    {
      "cell_type": "code",
      "execution_count": null,
      "id": "89839d40",
      "metadata": {
        "id": "89839d40",
        "outputId": "7e0917b3-8b19-4437-efde-452623a6bb16"
      },
      "outputs": [
        {
          "data": {
            "text/html": [
              "<div>\n",
              "<style scoped>\n",
              "    .dataframe tbody tr th:only-of-type {\n",
              "        vertical-align: middle;\n",
              "    }\n",
              "\n",
              "    .dataframe tbody tr th {\n",
              "        vertical-align: top;\n",
              "    }\n",
              "\n",
              "    .dataframe thead th {\n",
              "        text-align: right;\n",
              "    }\n",
              "</style>\n",
              "<table border=\"1\" class=\"dataframe\">\n",
              "  <thead>\n",
              "    <tr style=\"text-align: right;\">\n",
              "      <th></th>\n",
              "      <th>gender</th>\n",
              "      <th>SeniorCitizen</th>\n",
              "      <th>Partner</th>\n",
              "      <th>Dependents</th>\n",
              "      <th>tenure</th>\n",
              "      <th>PhoneService</th>\n",
              "      <th>MultipleLines</th>\n",
              "      <th>InternetService</th>\n",
              "      <th>OnlineSecurity</th>\n",
              "      <th>OnlineBackup</th>\n",
              "      <th>DeviceProtection</th>\n",
              "      <th>TechSupport</th>\n",
              "      <th>StreamingTV</th>\n",
              "      <th>StreamingMovies</th>\n",
              "      <th>Contract</th>\n",
              "      <th>PaperlessBilling</th>\n",
              "      <th>PaymentMethod</th>\n",
              "      <th>MonthlyCharges</th>\n",
              "      <th>TotalCharges</th>\n",
              "      <th>Churn</th>\n",
              "    </tr>\n",
              "  </thead>\n",
              "  <tbody>\n",
              "    <tr>\n",
              "      <th>268</th>\n",
              "      <td>Male</td>\n",
              "      <td>0</td>\n",
              "      <td>No</td>\n",
              "      <td>No</td>\n",
              "      <td>59</td>\n",
              "      <td>Yes</td>\n",
              "      <td>No</td>\n",
              "      <td>No</td>\n",
              "      <td>No internet service</td>\n",
              "      <td>No internet service</td>\n",
              "      <td>No internet service</td>\n",
              "      <td>No internet service</td>\n",
              "      <td>No internet service</td>\n",
              "      <td>No internet service</td>\n",
              "      <td>Two year</td>\n",
              "      <td>No</td>\n",
              "      <td>Mailed check</td>\n",
              "      <td>19.35</td>\n",
              "      <td>1099.6</td>\n",
              "      <td>Yes</td>\n",
              "    </tr>\n",
              "    <tr>\n",
              "      <th>5947</th>\n",
              "      <td>Female</td>\n",
              "      <td>0</td>\n",
              "      <td>Yes</td>\n",
              "      <td>Yes</td>\n",
              "      <td>33</td>\n",
              "      <td>Yes</td>\n",
              "      <td>Yes</td>\n",
              "      <td>No</td>\n",
              "      <td>No internet service</td>\n",
              "      <td>No internet service</td>\n",
              "      <td>No internet service</td>\n",
              "      <td>No internet service</td>\n",
              "      <td>No internet service</td>\n",
              "      <td>No internet service</td>\n",
              "      <td>Two year</td>\n",
              "      <td>Yes</td>\n",
              "      <td>Mailed check</td>\n",
              "      <td>24.50</td>\n",
              "      <td>740.3</td>\n",
              "      <td>Yes</td>\n",
              "    </tr>\n",
              "    <tr>\n",
              "      <th>6680</th>\n",
              "      <td>Female</td>\n",
              "      <td>0</td>\n",
              "      <td>No</td>\n",
              "      <td>Yes</td>\n",
              "      <td>48</td>\n",
              "      <td>Yes</td>\n",
              "      <td>No</td>\n",
              "      <td>Fiber optic</td>\n",
              "      <td>No</td>\n",
              "      <td>Yes</td>\n",
              "      <td>Yes</td>\n",
              "      <td>Yes</td>\n",
              "      <td>Yes</td>\n",
              "      <td>No</td>\n",
              "      <td>Two year</td>\n",
              "      <td>Yes</td>\n",
              "      <td>Mailed check</td>\n",
              "      <td>95.50</td>\n",
              "      <td>4627.85</td>\n",
              "      <td>Yes</td>\n",
              "    </tr>\n",
              "  </tbody>\n",
              "</table>\n",
              "</div>"
            ],
            "text/plain": [
              "      gender  SeniorCitizen Partner Dependents  tenure PhoneService  \\\n",
              "268     Male              0      No         No      59          Yes   \n",
              "5947  Female              0     Yes        Yes      33          Yes   \n",
              "6680  Female              0      No        Yes      48          Yes   \n",
              "\n",
              "     MultipleLines InternetService       OnlineSecurity         OnlineBackup  \\\n",
              "268             No              No  No internet service  No internet service   \n",
              "5947           Yes              No  No internet service  No internet service   \n",
              "6680            No     Fiber optic                   No                  Yes   \n",
              "\n",
              "         DeviceProtection          TechSupport          StreamingTV  \\\n",
              "268   No internet service  No internet service  No internet service   \n",
              "5947  No internet service  No internet service  No internet service   \n",
              "6680                  Yes                  Yes                  Yes   \n",
              "\n",
              "          StreamingMovies  Contract PaperlessBilling PaymentMethod  \\\n",
              "268   No internet service  Two year               No  Mailed check   \n",
              "5947  No internet service  Two year              Yes  Mailed check   \n",
              "6680                   No  Two year              Yes  Mailed check   \n",
              "\n",
              "      MonthlyCharges TotalCharges Churn  \n",
              "268            19.35       1099.6   Yes  \n",
              "5947           24.50        740.3   Yes  \n",
              "6680           95.50      4627.85   Yes  "
            ]
          },
          "execution_count": 260,
          "metadata": {},
          "output_type": "execute_result"
        }
      ],
      "source": [
        "# Extract all the customers whose contract is of two years, payment method\n",
        "# is mailed check and the value of churn is ‘Yes’ and store the result in ‘two_mail_yes’\n",
        "two_mail_yes = df.loc[(df['Contract']=='Two year')&(df['PaymentMethod']=='Mailed check')&(df['Churn']=='Yes')]\n",
        "two_mail_yes"
      ]
    },
    {
      "cell_type": "code",
      "execution_count": null,
      "id": "74821073",
      "metadata": {
        "id": "74821073",
        "outputId": "79452d90-e4cb-47e4-8219-aff3b82030c2"
      },
      "outputs": [
        {
          "data": {
            "text/html": [
              "<div>\n",
              "<style scoped>\n",
              "    .dataframe tbody tr th:only-of-type {\n",
              "        vertical-align: middle;\n",
              "    }\n",
              "\n",
              "    .dataframe tbody tr th {\n",
              "        vertical-align: top;\n",
              "    }\n",
              "\n",
              "    .dataframe thead th {\n",
              "        text-align: right;\n",
              "    }\n",
              "</style>\n",
              "<table border=\"1\" class=\"dataframe\">\n",
              "  <thead>\n",
              "    <tr style=\"text-align: right;\">\n",
              "      <th></th>\n",
              "      <th>gender</th>\n",
              "      <th>SeniorCitizen</th>\n",
              "      <th>Partner</th>\n",
              "      <th>Dependents</th>\n",
              "      <th>tenure</th>\n",
              "      <th>PhoneService</th>\n",
              "      <th>MultipleLines</th>\n",
              "      <th>InternetService</th>\n",
              "      <th>OnlineSecurity</th>\n",
              "      <th>OnlineBackup</th>\n",
              "      <th>DeviceProtection</th>\n",
              "      <th>TechSupport</th>\n",
              "      <th>StreamingTV</th>\n",
              "      <th>StreamingMovies</th>\n",
              "      <th>Contract</th>\n",
              "      <th>PaperlessBilling</th>\n",
              "      <th>PaymentMethod</th>\n",
              "      <th>MonthlyCharges</th>\n",
              "      <th>TotalCharges</th>\n",
              "      <th>Churn</th>\n",
              "    </tr>\n",
              "  </thead>\n",
              "  <tbody>\n",
              "    <tr>\n",
              "      <th>6834</th>\n",
              "      <td>Female</td>\n",
              "      <td>0</td>\n",
              "      <td>No</td>\n",
              "      <td>No</td>\n",
              "      <td>15</td>\n",
              "      <td>No</td>\n",
              "      <td>No phone service</td>\n",
              "      <td>DSL</td>\n",
              "      <td>No</td>\n",
              "      <td>Yes</td>\n",
              "      <td>No</td>\n",
              "      <td>No</td>\n",
              "      <td>No</td>\n",
              "      <td>Yes</td>\n",
              "      <td>Two year</td>\n",
              "      <td>Yes</td>\n",
              "      <td>Mailed check</td>\n",
              "      <td>38.80</td>\n",
              "      <td>603</td>\n",
              "      <td>No</td>\n",
              "    </tr>\n",
              "    <tr>\n",
              "      <th>6526</th>\n",
              "      <td>Male</td>\n",
              "      <td>0</td>\n",
              "      <td>No</td>\n",
              "      <td>Yes</td>\n",
              "      <td>49</td>\n",
              "      <td>Yes</td>\n",
              "      <td>Yes</td>\n",
              "      <td>Fiber optic</td>\n",
              "      <td>No</td>\n",
              "      <td>No</td>\n",
              "      <td>No</td>\n",
              "      <td>Yes</td>\n",
              "      <td>Yes</td>\n",
              "      <td>Yes</td>\n",
              "      <td>One year</td>\n",
              "      <td>Yes</td>\n",
              "      <td>Bank transfer (automatic)</td>\n",
              "      <td>100.60</td>\n",
              "      <td>5069.65</td>\n",
              "      <td>Yes</td>\n",
              "    </tr>\n",
              "    <tr>\n",
              "      <th>6851</th>\n",
              "      <td>Male</td>\n",
              "      <td>0</td>\n",
              "      <td>Yes</td>\n",
              "      <td>Yes</td>\n",
              "      <td>38</td>\n",
              "      <td>Yes</td>\n",
              "      <td>Yes</td>\n",
              "      <td>Fiber optic</td>\n",
              "      <td>No</td>\n",
              "      <td>No</td>\n",
              "      <td>Yes</td>\n",
              "      <td>Yes</td>\n",
              "      <td>Yes</td>\n",
              "      <td>No</td>\n",
              "      <td>Two year</td>\n",
              "      <td>Yes</td>\n",
              "      <td>Bank transfer (automatic)</td>\n",
              "      <td>94.90</td>\n",
              "      <td>3616.25</td>\n",
              "      <td>No</td>\n",
              "    </tr>\n",
              "    <tr>\n",
              "      <th>5207</th>\n",
              "      <td>Female</td>\n",
              "      <td>1</td>\n",
              "      <td>Yes</td>\n",
              "      <td>No</td>\n",
              "      <td>24</td>\n",
              "      <td>No</td>\n",
              "      <td>No phone service</td>\n",
              "      <td>DSL</td>\n",
              "      <td>No</td>\n",
              "      <td>No</td>\n",
              "      <td>Yes</td>\n",
              "      <td>No</td>\n",
              "      <td>No</td>\n",
              "      <td>Yes</td>\n",
              "      <td>Month-to-month</td>\n",
              "      <td>Yes</td>\n",
              "      <td>Credit card (automatic)</td>\n",
              "      <td>40.65</td>\n",
              "      <td>933.3</td>\n",
              "      <td>Yes</td>\n",
              "    </tr>\n",
              "    <tr>\n",
              "      <th>335</th>\n",
              "      <td>Male</td>\n",
              "      <td>0</td>\n",
              "      <td>Yes</td>\n",
              "      <td>Yes</td>\n",
              "      <td>68</td>\n",
              "      <td>Yes</td>\n",
              "      <td>Yes</td>\n",
              "      <td>DSL</td>\n",
              "      <td>No</td>\n",
              "      <td>Yes</td>\n",
              "      <td>Yes</td>\n",
              "      <td>Yes</td>\n",
              "      <td>No</td>\n",
              "      <td>Yes</td>\n",
              "      <td>One year</td>\n",
              "      <td>Yes</td>\n",
              "      <td>Bank transfer (automatic)</td>\n",
              "      <td>75.80</td>\n",
              "      <td>5293.95</td>\n",
              "      <td>Yes</td>\n",
              "    </tr>\n",
              "    <tr>\n",
              "      <th>...</th>\n",
              "      <td>...</td>\n",
              "      <td>...</td>\n",
              "      <td>...</td>\n",
              "      <td>...</td>\n",
              "      <td>...</td>\n",
              "      <td>...</td>\n",
              "      <td>...</td>\n",
              "      <td>...</td>\n",
              "      <td>...</td>\n",
              "      <td>...</td>\n",
              "      <td>...</td>\n",
              "      <td>...</td>\n",
              "      <td>...</td>\n",
              "      <td>...</td>\n",
              "      <td>...</td>\n",
              "      <td>...</td>\n",
              "      <td>...</td>\n",
              "      <td>...</td>\n",
              "      <td>...</td>\n",
              "      <td>...</td>\n",
              "    </tr>\n",
              "    <tr>\n",
              "      <th>3940</th>\n",
              "      <td>Male</td>\n",
              "      <td>0</td>\n",
              "      <td>No</td>\n",
              "      <td>No</td>\n",
              "      <td>19</td>\n",
              "      <td>No</td>\n",
              "      <td>No phone service</td>\n",
              "      <td>DSL</td>\n",
              "      <td>No</td>\n",
              "      <td>No</td>\n",
              "      <td>No</td>\n",
              "      <td>No</td>\n",
              "      <td>No</td>\n",
              "      <td>No</td>\n",
              "      <td>Month-to-month</td>\n",
              "      <td>Yes</td>\n",
              "      <td>Bank transfer (automatic)</td>\n",
              "      <td>25.15</td>\n",
              "      <td>468.35</td>\n",
              "      <td>No</td>\n",
              "    </tr>\n",
              "    <tr>\n",
              "      <th>145</th>\n",
              "      <td>Female</td>\n",
              "      <td>0</td>\n",
              "      <td>Yes</td>\n",
              "      <td>Yes</td>\n",
              "      <td>65</td>\n",
              "      <td>Yes</td>\n",
              "      <td>Yes</td>\n",
              "      <td>Fiber optic</td>\n",
              "      <td>Yes</td>\n",
              "      <td>Yes</td>\n",
              "      <td>No</td>\n",
              "      <td>Yes</td>\n",
              "      <td>Yes</td>\n",
              "      <td>No</td>\n",
              "      <td>Two year</td>\n",
              "      <td>Yes</td>\n",
              "      <td>Credit card (automatic)</td>\n",
              "      <td>99.05</td>\n",
              "      <td>6416.7</td>\n",
              "      <td>No</td>\n",
              "    </tr>\n",
              "    <tr>\n",
              "      <th>2164</th>\n",
              "      <td>Male</td>\n",
              "      <td>0</td>\n",
              "      <td>Yes</td>\n",
              "      <td>Yes</td>\n",
              "      <td>70</td>\n",
              "      <td>Yes</td>\n",
              "      <td>No</td>\n",
              "      <td>Fiber optic</td>\n",
              "      <td>Yes</td>\n",
              "      <td>Yes</td>\n",
              "      <td>Yes</td>\n",
              "      <td>Yes</td>\n",
              "      <td>Yes</td>\n",
              "      <td>No</td>\n",
              "      <td>Two year</td>\n",
              "      <td>Yes</td>\n",
              "      <td>Credit card (automatic)</td>\n",
              "      <td>101.10</td>\n",
              "      <td>6994.8</td>\n",
              "      <td>No</td>\n",
              "    </tr>\n",
              "    <tr>\n",
              "      <th>3372</th>\n",
              "      <td>Male</td>\n",
              "      <td>1</td>\n",
              "      <td>No</td>\n",
              "      <td>No</td>\n",
              "      <td>57</td>\n",
              "      <td>Yes</td>\n",
              "      <td>Yes</td>\n",
              "      <td>Fiber optic</td>\n",
              "      <td>No</td>\n",
              "      <td>Yes</td>\n",
              "      <td>No</td>\n",
              "      <td>Yes</td>\n",
              "      <td>Yes</td>\n",
              "      <td>Yes</td>\n",
              "      <td>Month-to-month</td>\n",
              "      <td>Yes</td>\n",
              "      <td>Bank transfer (automatic)</td>\n",
              "      <td>104.90</td>\n",
              "      <td>5913.95</td>\n",
              "      <td>No</td>\n",
              "    </tr>\n",
              "    <tr>\n",
              "      <th>2910</th>\n",
              "      <td>Female</td>\n",
              "      <td>0</td>\n",
              "      <td>Yes</td>\n",
              "      <td>Yes</td>\n",
              "      <td>35</td>\n",
              "      <td>Yes</td>\n",
              "      <td>Yes</td>\n",
              "      <td>No</td>\n",
              "      <td>No internet service</td>\n",
              "      <td>No internet service</td>\n",
              "      <td>No internet service</td>\n",
              "      <td>No internet service</td>\n",
              "      <td>No internet service</td>\n",
              "      <td>No internet service</td>\n",
              "      <td>Two year</td>\n",
              "      <td>Yes</td>\n",
              "      <td>Credit card (automatic)</td>\n",
              "      <td>25.40</td>\n",
              "      <td>949.8</td>\n",
              "      <td>No</td>\n",
              "    </tr>\n",
              "  </tbody>\n",
              "</table>\n",
              "<p>333 rows × 20 columns</p>\n",
              "</div>"
            ],
            "text/plain": [
              "      gender  SeniorCitizen Partner Dependents  tenure PhoneService  \\\n",
              "6834  Female              0      No         No      15           No   \n",
              "6526    Male              0      No        Yes      49          Yes   \n",
              "6851    Male              0     Yes        Yes      38          Yes   \n",
              "5207  Female              1     Yes         No      24           No   \n",
              "335     Male              0     Yes        Yes      68          Yes   \n",
              "...      ...            ...     ...        ...     ...          ...   \n",
              "3940    Male              0      No         No      19           No   \n",
              "145   Female              0     Yes        Yes      65          Yes   \n",
              "2164    Male              0     Yes        Yes      70          Yes   \n",
              "3372    Male              1      No         No      57          Yes   \n",
              "2910  Female              0     Yes        Yes      35          Yes   \n",
              "\n",
              "         MultipleLines InternetService       OnlineSecurity  \\\n",
              "6834  No phone service             DSL                   No   \n",
              "6526               Yes     Fiber optic                   No   \n",
              "6851               Yes     Fiber optic                   No   \n",
              "5207  No phone service             DSL                   No   \n",
              "335                Yes             DSL                   No   \n",
              "...                ...             ...                  ...   \n",
              "3940  No phone service             DSL                   No   \n",
              "145                Yes     Fiber optic                  Yes   \n",
              "2164                No     Fiber optic                  Yes   \n",
              "3372               Yes     Fiber optic                   No   \n",
              "2910               Yes              No  No internet service   \n",
              "\n",
              "             OnlineBackup     DeviceProtection          TechSupport  \\\n",
              "6834                  Yes                   No                   No   \n",
              "6526                   No                   No                  Yes   \n",
              "6851                   No                  Yes                  Yes   \n",
              "5207                   No                  Yes                   No   \n",
              "335                   Yes                  Yes                  Yes   \n",
              "...                   ...                  ...                  ...   \n",
              "3940                   No                   No                   No   \n",
              "145                   Yes                   No                  Yes   \n",
              "2164                  Yes                  Yes                  Yes   \n",
              "3372                  Yes                   No                  Yes   \n",
              "2910  No internet service  No internet service  No internet service   \n",
              "\n",
              "              StreamingTV      StreamingMovies        Contract  \\\n",
              "6834                   No                  Yes        Two year   \n",
              "6526                  Yes                  Yes        One year   \n",
              "6851                  Yes                   No        Two year   \n",
              "5207                   No                  Yes  Month-to-month   \n",
              "335                    No                  Yes        One year   \n",
              "...                   ...                  ...             ...   \n",
              "3940                   No                   No  Month-to-month   \n",
              "145                   Yes                   No        Two year   \n",
              "2164                  Yes                   No        Two year   \n",
              "3372                  Yes                  Yes  Month-to-month   \n",
              "2910  No internet service  No internet service        Two year   \n",
              "\n",
              "     PaperlessBilling              PaymentMethod  MonthlyCharges TotalCharges  \\\n",
              "6834              Yes               Mailed check           38.80          603   \n",
              "6526              Yes  Bank transfer (automatic)          100.60      5069.65   \n",
              "6851              Yes  Bank transfer (automatic)           94.90      3616.25   \n",
              "5207              Yes    Credit card (automatic)           40.65        933.3   \n",
              "335               Yes  Bank transfer (automatic)           75.80      5293.95   \n",
              "...               ...                        ...             ...          ...   \n",
              "3940              Yes  Bank transfer (automatic)           25.15       468.35   \n",
              "145               Yes    Credit card (automatic)           99.05       6416.7   \n",
              "2164              Yes    Credit card (automatic)          101.10       6994.8   \n",
              "3372              Yes  Bank transfer (automatic)          104.90      5913.95   \n",
              "2910              Yes    Credit card (automatic)           25.40        949.8   \n",
              "\n",
              "     Churn  \n",
              "6834    No  \n",
              "6526   Yes  \n",
              "6851    No  \n",
              "5207   Yes  \n",
              "335    Yes  \n",
              "...    ...  \n",
              "3940    No  \n",
              "145     No  \n",
              "2164    No  \n",
              "3372    No  \n",
              "2910    No  \n",
              "\n",
              "[333 rows x 20 columns]"
            ]
          },
          "execution_count": 261,
          "metadata": {},
          "output_type": "execute_result"
        }
      ],
      "source": [
        "# Extract 333 random records from the customer_churndataframe and store the result in ‘customer_333’\n",
        "customer_333 = df.sample(n=333)\n",
        "customer_333"
      ]
    },
    {
      "cell_type": "code",
      "execution_count": null,
      "id": "d28c5306",
      "metadata": {
        "id": "d28c5306",
        "outputId": "86d1bef0-ee21-4686-b3f0-4eb3fadb69fb"
      },
      "outputs": [
        {
          "data": {
            "text/plain": [
              "No     5174\n",
              "Yes    1869\n",
              "Name: Churn, dtype: int64"
            ]
          },
          "execution_count": 262,
          "metadata": {},
          "output_type": "execute_result"
        }
      ],
      "source": [
        "# Get the count of different levels from the ‘Churn’ column\n",
        "df['Churn'].value_counts()"
      ]
    },
    {
      "cell_type": "markdown",
      "id": "97e7d8cb",
      "metadata": {
        "id": "97e7d8cb"
      },
      "source": [
        "## 2. Data Visualization"
      ]
    },
    {
      "cell_type": "code",
      "execution_count": null,
      "id": "a2a0c93f",
      "metadata": {
        "id": "a2a0c93f"
      },
      "outputs": [],
      "source": [
        "# Creating a new dataframe that contains diffrent categories in Internet services\n",
        "df_Int_Services = df['InternetService'].value_counts().reset_index()\n",
        "df_Int_Services.columns={'Service_Category','Count'} # Renaming the columns"
      ]
    },
    {
      "cell_type": "code",
      "execution_count": null,
      "id": "f36418f7",
      "metadata": {
        "id": "f36418f7",
        "outputId": "f3e15b16-6480-4919-afb6-2f92adb63a34"
      },
      "outputs": [
        {
          "data": {
            "text/html": [
              "<div>\n",
              "<style scoped>\n",
              "    .dataframe tbody tr th:only-of-type {\n",
              "        vertical-align: middle;\n",
              "    }\n",
              "\n",
              "    .dataframe tbody tr th {\n",
              "        vertical-align: top;\n",
              "    }\n",
              "\n",
              "    .dataframe thead th {\n",
              "        text-align: right;\n",
              "    }\n",
              "</style>\n",
              "<table border=\"1\" class=\"dataframe\">\n",
              "  <thead>\n",
              "    <tr style=\"text-align: right;\">\n",
              "      <th></th>\n",
              "      <th>Service_Category</th>\n",
              "      <th>Count</th>\n",
              "    </tr>\n",
              "  </thead>\n",
              "  <tbody>\n",
              "    <tr>\n",
              "      <th>0</th>\n",
              "      <td>Fiber optic</td>\n",
              "      <td>3096</td>\n",
              "    </tr>\n",
              "    <tr>\n",
              "      <th>1</th>\n",
              "      <td>DSL</td>\n",
              "      <td>2421</td>\n",
              "    </tr>\n",
              "    <tr>\n",
              "      <th>2</th>\n",
              "      <td>No</td>\n",
              "      <td>1526</td>\n",
              "    </tr>\n",
              "  </tbody>\n",
              "</table>\n",
              "</div>"
            ],
            "text/plain": [
              "  Service_Category  Count\n",
              "0      Fiber optic   3096\n",
              "1              DSL   2421\n",
              "2               No   1526"
            ]
          },
          "execution_count": 264,
          "metadata": {},
          "output_type": "execute_result"
        }
      ],
      "source": [
        "df_Int_Services # Checking the dataframe"
      ]
    },
    {
      "cell_type": "code",
      "execution_count": null,
      "id": "faad67d1",
      "metadata": {
        "id": "faad67d1",
        "outputId": "f0fcf80a-1588-4669-d2d1-2bb303747b42"
      },
      "outputs": [
        {
          "data": {
            "text/plain": [
              "Text(0.5, 1.0, 'Distribution of Internet Service')"
            ]
          },
          "execution_count": 265,
          "metadata": {},
          "output_type": "execute_result"
        },
        {
          "data": {
            "image/png": "[encoded data removed]",
            "text/plain": [
              "<Figure size 640x480 with 1 Axes>"
            ]
          },
          "metadata": {},
          "output_type": "display_data"
        }
      ],
      "source": [
        "# Build a bar-plot for the ’InternetService’ column:\n",
        "# a. Set x-axis label to ‘Categories of Internet Service’\n",
        "# b. Set y-axis label to ‘Count of Categories’\n",
        "# c. Set the title of plot to be ‘Distribution of Internet Service’\n",
        "# d. Set the color of the bars to be ‘orange'\n",
        "sns.barplot(x=df_Int_Services['Service_Category'],y=df_Int_Services['Count'],color='orange') # bulding barplot for Internet services\n",
        "plt.xlabel('Categories of Internet Service') # Putting X Label as mentioned in the Qustion\n",
        "plt.ylabel('Count of Categories') # Putting Y Label as mentioned in the Qustion\n",
        "plt.title('Distribution of Internet Service') # Putting Title as mentioned in the Qustion"
      ]
    },
    {
      "cell_type": "code",
      "execution_count": null,
      "id": "497d6212",
      "metadata": {
        "id": "497d6212",
        "outputId": "636cd7b4-24a8-4520-a574-bfd15ab62728"
      },
      "outputs": [
        {
          "data": {
            "text/plain": [
              "Text(0.5, 1.0, 'Distribution of tenure')"
            ]
          },
          "execution_count": 266,
          "metadata": {},
          "output_type": "execute_result"
        },
        {
          "data": {
            "image/png": "[encoded data removed]",
            "text/plain": [
              "<Figure size 640x480 with 1 Axes>"
            ]
          },
          "metadata": {},
          "output_type": "display_data"
        }
      ],
      "source": [
        "# Build a histogram for the ‘tenure’ column:\n",
        "# a. Set the number of bins to be 30\n",
        "# b. Set the color of the bins to be ‘green’\n",
        "# c. Assign the title ‘Distribution of tenure\n",
        "sns.histplot(df['tenure'],bins=30,color='green') # Bulding Histogram for tenure column\n",
        "plt.title('Distribution of tenure') # Putting title as mentioned in the qustion"
      ]
    },
    {
      "cell_type": "code",
      "execution_count": null,
      "id": "cdc9668e",
      "metadata": {
        "id": "cdc9668e",
        "outputId": "ababaf52-d3c3-4e77-8021-a26599993ffd"
      },
      "outputs": [
        {
          "data": {
            "image/png": "[encoded data removed]",
            "text/plain": [
              "<Figure size 640x480 with 1 Axes>"
            ]
          },
          "metadata": {},
          "output_type": "display_data"
        }
      ],
      "source": [
        "# Build a scatter-plot between ‘MonthlyCharges’ and ‘tenure’. Map\n",
        "# ‘MonthlyCharges’ to the y-axis and ‘tenure’ to the ‘x-axis’:\n",
        "# a. Assign the points a color of ‘brown’\n",
        "# b. Set the x-axis label to ‘Tenure of customer’\n",
        "# c. Set the y-axis label to ‘Monthly Charges of customer’\n",
        "# d. Set the title to ‘Tenure vs Monthly Charges’\n",
        "df_monthly_charges_tenure = df.groupby('tenure')['MonthlyCharges'].mean().reset_index()\n",
        "plt.scatter(x=df_monthly_charges_tenure['tenure'],y=df_monthly_charges_tenure['MonthlyCharges'],color='brown') # Bulding scatter plot\n",
        "plt.xlabel('Tenure of customer') # Putting X Label as mentioned in the Qustion\n",
        "plt.ylabel('Monthly Charges of customer') # Putting Y Label as mentioned in the Qustion\n",
        "plt.title('Tenure vs Monthly Charges') # Putting Title as mentioned in the Qustion\n",
        "plt.show()"
      ]
    },
    {
      "cell_type": "code",
      "execution_count": null,
      "id": "b6a30171",
      "metadata": {
        "id": "b6a30171",
        "outputId": "14cf58ca-c296-4101-a637-06b0b7f11eaa"
      },
      "outputs": [
        {
          "data": {
            "text/plain": [
              "<Axes: xlabel='tenure', ylabel='Contract'>"
            ]
          },
          "execution_count": 268,
          "metadata": {},
          "output_type": "execute_result"
        },
        {
          "data": {
            "image/png": "[encoded data removed]",
            "text/plain": [
              "<Figure size 640x480 with 1 Axes>"
            ]
          },
          "metadata": {},
          "output_type": "display_data"
        }
      ],
      "source": [
        "# e. Build a box-plot between ‘tenure’ & ‘Contract’. Map ‘tenure’ on the y-axis & f. ‘Contract’ on the x-axis.\n",
        "sns.boxplot(x=df['tenure'],y=df['Contract']) # Box Plot for tenure and contract"
      ]
    },
    {
      "cell_type": "markdown",
      "id": "dcd94348",
      "metadata": {
        "id": "dcd94348"
      },
      "source": [
        "# Implementing ML Models"
      ]
    },
    {
      "cell_type": "markdown",
      "id": "ba6c6ab6",
      "metadata": {
        "id": "ba6c6ab6"
      },
      "source": [
        "## Linear Regression"
      ]
    },
    {
      "cell_type": "code",
      "execution_count": null,
      "id": "30746047",
      "metadata": {
        "id": "30746047"
      },
      "outputs": [],
      "source": [
        "# Build a simple linear model where dependent variable is ‘MonthlyCharges’ and independent variable is ‘tenure’:\n",
        "# a. Divide the dataset into train and test sets in 70:30 ratio.\n",
        "# b. Build the model on train set and predict the values on test set\n",
        "# c. After predicting the values, find the root mean square error\n",
        "# d. Find out the error in prediction & store the result in ‘error’\n",
        "# e. Find the root mean square error"
      ]
    },
    {
      "cell_type": "code",
      "execution_count": null,
      "id": "f9f59f30",
      "metadata": {
        "id": "f9f59f30"
      },
      "outputs": [],
      "source": [
        "# Splitting the data\n",
        "X= df.loc[:,['tenure']]# Creating the X variable for independent feature which is 'Tenure'\n",
        "y= df['MonthlyCharges'] # Creating the y variable for dependent feature which is 'Monthly Charges'"
      ]
    },
    {
      "cell_type": "code",
      "execution_count": null,
      "id": "74df87b3",
      "metadata": {
        "id": "74df87b3"
      },
      "outputs": [],
      "source": [
        "# Importing the traintestsplit function to split the data into train and test\n",
        "from sklearn.model_selection import train_test_split\n",
        "# Creating the variables to put train and test data\n",
        "# and setting the train and test size 70:30 ration as mentioned in the qustion\n",
        "X_train,X_test,y_train,y_test=train_test_split(X,y,test_size=0.3,random_state=42)"
      ]
    },
    {
      "cell_type": "code",
      "execution_count": null,
      "id": "11e9fbfb",
      "metadata": {
        "id": "11e9fbfb"
      },
      "outputs": [],
      "source": [
        "from sklearn.linear_model import LinearRegression # Importing the Linear Regression model\n",
        "Le = LinearRegression()  # assigening the Model to a variable called 'Le'\n",
        "Liner_Reg_model = Le.fit(X_train,y_train) # Fitting the train data to the Linear Regression Model"
      ]
    },
    {
      "cell_type": "code",
      "execution_count": null,
      "id": "cd2910af",
      "metadata": {
        "id": "cd2910af"
      },
      "outputs": [],
      "source": [
        "y_predict= Le.predict(X_test) # Making predictions"
      ]
    },
    {
      "cell_type": "code",
      "execution_count": null,
      "id": "42ff805a",
      "metadata": {
        "id": "42ff805a",
        "outputId": "ebd45ea5-8988-400b-eaf9-70e43a824e23"
      },
      "outputs": [
        {
          "data": {
            "text/plain": [
              "array([55.10659011, 67.43520921, 70.82557946, ..., 73.29130328,\n",
              "       60.96268418, 61.57911514])"
            ]
          },
          "execution_count": 274,
          "metadata": {},
          "output_type": "execute_result"
        }
      ],
      "source": [
        "y_predict # Checking the Predicted values with Linear Regression Model"
      ]
    },
    {
      "cell_type": "code",
      "execution_count": null,
      "id": "2b191429",
      "metadata": {
        "id": "2b191429"
      },
      "outputs": [],
      "source": [
        "from sklearn.metrics import * # Importing all Mathamatical functions to evaluate the model performance"
      ]
    },
    {
      "cell_type": "code",
      "execution_count": null,
      "id": "1f49265d",
      "metadata": {
        "id": "1f49265d"
      },
      "outputs": [],
      "source": [
        "mse=mean_squared_error(y_test,y_predict) # Creating variable to Check the mse"
      ]
    },
    {
      "cell_type": "code",
      "execution_count": null,
      "id": "f4937281",
      "metadata": {
        "id": "f4937281",
        "outputId": "f274a1e4-9060-401d-d9a6-08ee49783f3f"
      },
      "outputs": [
        {
          "data": {
            "text/plain": [
              "845.6091871095867"
            ]
          },
          "execution_count": 277,
          "metadata": {},
          "output_type": "execute_result"
        }
      ],
      "source": [
        "mse"
      ]
    },
    {
      "cell_type": "code",
      "execution_count": null,
      "id": "ef3e0998",
      "metadata": {
        "id": "ef3e0998",
        "outputId": "3df354ed-87de-453b-942f-3e777b089c74"
      },
      "outputs": [
        {
          "data": {
            "text/plain": [
              "845.6091871095867"
            ]
          },
          "execution_count": 278,
          "metadata": {},
          "output_type": "execute_result"
        }
      ],
      "source": [
        "error =mse # assigening the mse to a varibale called 'error' as mentioned in the qustion\n",
        "error"
      ]
    },
    {
      "cell_type": "code",
      "execution_count": null,
      "id": "cf132f9a",
      "metadata": {
        "id": "cf132f9a",
        "outputId": "07daa5ce-bf9e-48cb-c843-2a400782924d"
      },
      "outputs": [
        {
          "data": {
            "text/plain": [
              "5.856035027031625"
            ]
          },
          "execution_count": 279,
          "metadata": {},
          "output_type": "execute_result"
        }
      ],
      "source": [
        "rmse = r2_score(y_test,y_predict)*100 # Checking the RMSE value\n",
        "rmse"
      ]
    },
    {
      "cell_type": "markdown",
      "id": "78b9f83d",
      "metadata": {
        "id": "78b9f83d"
      },
      "source": [
        "## Logistic Regression:"
      ]
    },
    {
      "cell_type": "code",
      "execution_count": null,
      "id": "55c9e8ba",
      "metadata": {
        "id": "55c9e8ba"
      },
      "outputs": [],
      "source": [
        "# Build a simple logistic regression model where dependent variable is Churn’ and independent variable is ‘MonthlyCharges’:\n",
        "# a. Divide the dataset in 65:35 ratio\n",
        "# b. Build the model on train set and predict the values on test set\n",
        "# c. Build the confusion matrix and get the accuracy score"
      ]
    },
    {
      "cell_type": "code",
      "execution_count": null,
      "id": "a6a11771",
      "metadata": {
        "id": "a6a11771"
      },
      "outputs": [],
      "source": [
        "from sklearn.preprocessing import LabelEncoder # Importing the Label Encoder to encoding the categorical data point into the values\n",
        "LEncoder = LabelEncoder() # assigening the Label Encoder to a variable called LEncoder\n",
        "df['Churn']=LEncoder.fit_transform(df['Churn']) # transforming the Data points in the Churn column into numerical values, so we can perform mathamatical operation on them."
      ]
    },
    {
      "cell_type": "code",
      "execution_count": null,
      "id": "3454cfcc",
      "metadata": {
        "id": "3454cfcc"
      },
      "outputs": [],
      "source": [
        "Log_X = df.loc[:,['MonthlyCharges']]# Creating Log_X variable with Monthly Charges\n",
        "Log_y = df['Churn']"
      ]
    },
    {
      "cell_type": "code",
      "execution_count": null,
      "id": "72eb85ae",
      "metadata": {
        "id": "72eb85ae"
      },
      "outputs": [],
      "source": [
        "# Splitting the data into Train and test using train test split function\n",
        "# assigening the test size 65:35 ration as asked in the qustion\n",
        "Log_X_train,Log_X_test,Log_y_train,Log_y_test=train_test_split(Log_X,Log_y,test_size=0.35,random_state=42)"
      ]
    },
    {
      "cell_type": "code",
      "execution_count": null,
      "id": "b6e2519e",
      "metadata": {
        "id": "b6e2519e"
      },
      "outputs": [],
      "source": [
        "from sklearn.linear_model import LogisticRegression # Importing the Logistic regression model\n",
        "Log_Reg = LogisticRegression() # assigening model to a variable called Log_REg\n",
        "Log_Reg_Model = Log_Reg.fit(Log_X_train,Log_y_train) # Fitting the model with train data"
      ]
    },
    {
      "cell_type": "code",
      "execution_count": null,
      "id": "a05a5499",
      "metadata": {
        "id": "a05a5499",
        "outputId": "d28f58a7-a8f3-489c-e1d0-805a701650b3"
      },
      "outputs": [
        {
          "data": {
            "text/plain": [
              "array([0, 0, 0, ..., 0, 0, 0])"
            ]
          },
          "execution_count": 285,
          "metadata": {},
          "output_type": "execute_result"
        }
      ],
      "source": [
        "Log_y_predict = Log_Reg.predict(Log_X_test) # Making the Predictions\n",
        "Log_y_predict"
      ]
    },
    {
      "cell_type": "code",
      "execution_count": null,
      "id": "41e6f5b1",
      "metadata": {
        "id": "41e6f5b1",
        "outputId": "d517170e-5c48-40ad-cc13-ffd0e18ce963"
      },
      "outputs": [
        {
          "data": {
            "text/plain": [
              "array([[1797,    0],\n",
              "       [ 669,    0]], dtype=int64)"
            ]
          },
          "execution_count": 286,
          "metadata": {},
          "output_type": "execute_result"
        }
      ],
      "source": [
        "# Using the confusion matrix for check number of correct and wrongly predicted values\n",
        "cm = confusion_matrix(Log_y_test,Log_y_predict)\n",
        "cm"
      ]
    },
    {
      "cell_type": "code",
      "execution_count": null,
      "id": "ac5d3dcc",
      "metadata": {
        "id": "ac5d3dcc"
      },
      "outputs": [],
      "source": [
        "# Checking the accuracy score\n",
        "Accuracy_Score = accuracy_score(Log_y_test,Log_y_predict)*100"
      ]
    },
    {
      "cell_type": "code",
      "execution_count": null,
      "id": "3bb8b013",
      "metadata": {
        "id": "3bb8b013",
        "outputId": "22246ebd-ec63-40e8-9604-8632f46f64e2"
      },
      "outputs": [
        {
          "data": {
            "text/plain": [
              "72.87104622871047"
            ]
          },
          "execution_count": 288,
          "metadata": {},
          "output_type": "execute_result"
        }
      ],
      "source": [
        "Accuracy_Score"
      ]
    },
    {
      "cell_type": "markdown",
      "id": "f4442d3b",
      "metadata": {
        "id": "f4442d3b"
      },
      "source": [
        "### Multiple Logistic Regression Model"
      ]
    },
    {
      "cell_type": "code",
      "execution_count": null,
      "id": "f4f0eb9b",
      "metadata": {
        "id": "f4f0eb9b"
      },
      "outputs": [],
      "source": [
        "# d. Build a multiple logistic regression model where dependent variable\n",
        "# is ‘Churn’ and independent variables are ‘tenure’ and‘MonthlyCharges’\n",
        "# e. Divide the dataset in 80:20 ratio\n",
        "# f. Build the model on train set and predict the values on test set\n",
        "# g. Build the confusion matrix and get the accuracy score"
      ]
    },
    {
      "cell_type": "code",
      "execution_count": null,
      "id": "62d31aaa",
      "metadata": {
        "id": "62d31aaa"
      },
      "outputs": [],
      "source": [
        "# Creating a variable called Multi_Log_X for assigening the independent columns 'Tenure' and \"Monthly Charges\"\n",
        "Multi_Log_X = df.loc[:,['tenure','MonthlyCharges']]\n",
        "Multi_Log_y = df.loc[:,['Churn']] # Creating a variable called Multi_Log_y for assigening the dependent column 'Churn'"
      ]
    },
    {
      "cell_type": "code",
      "execution_count": null,
      "id": "fcae05a4",
      "metadata": {
        "id": "fcae05a4"
      },
      "outputs": [],
      "source": [
        "# Splitting the the data into train and test using train test split function and setting the test size as 70:20 ratio\n",
        "Multi_Log_X_train,Multi_Log_X_test,Multi_Log_y_train,Multi_Log_y_test= train_test_split(Multi_Log_X,Multi_Log_y,test_size=0.20,random_state=42)"
      ]
    },
    {
      "cell_type": "code",
      "execution_count": null,
      "id": "d8eaae26",
      "metadata": {
        "id": "d8eaae26",
        "outputId": "057fd01a-f884-46bc-c921-675e8c6c5f14"
      },
      "outputs": [
        {
          "name": "stderr",
          "output_type": "stream",
          "text": [
            "D:\\ANK\\lib\\site-packages\\sklearn\\utils\\validation.py:1143: DataConversionWarning: A column-vector y was passed when a 1d array was expected. Please change the shape of y to (n_samples, ), for example using ravel().\n",
            "  y = column_or_1d(y, warn=True)\n"
          ]
        },
        {
          "data": {
            "text/html": [
              "<style>#sk-container-id-12 {color: black;background-color: white;}#sk-container-id-12 pre{padding: 0;}#sk-container-id-12 div.sk-toggleable {background-color: white;}#sk-container-id-12 label.sk-toggleable__label {cursor: pointer;display: block;width: 100%;margin-bottom: 0;padding: 0.3em;box-sizing: border-box;text-align: center;}#sk-container-id-12 label.sk-toggleable__label-arrow:before {content: \"▸\";float: left;margin-right: 0.25em;color: #696969;}#sk-container-id-12 label.sk-toggleable__label-arrow:hover:before {color: black;}#sk-container-id-12 div.sk-estimator:hover label.sk-toggleable__label-arrow:before {color: black;}#sk-container-id-12 div.sk-toggleable__content {max-height: 0;max-width: 0;overflow: hidden;text-align: left;background-color: #f0f8ff;}#sk-container-id-12 div.sk-toggleable__content pre {margin: 0.2em;color: black;border-radius: 0.25em;background-color: #f0f8ff;}#sk-container-id-12 input.sk-toggleable__control:checked~div.sk-toggleable__content {max-height: 200px;max-width: 100%;overflow: auto;}#sk-container-id-12 input.sk-toggleable__control:checked~label.sk-toggleable__label-arrow:before {content: \"▾\";}#sk-container-id-12 div.sk-estimator input.sk-toggleable__control:checked~label.sk-toggleable__label {background-color: #d4ebff;}#sk-container-id-12 div.sk-label input.sk-toggleable__control:checked~label.sk-toggleable__label {background-color: #d4ebff;}#sk-container-id-12 input.sk-hidden--visually {border: 0;clip: rect(1px 1px 1px 1px);clip: rect(1px, 1px, 1px, 1px);height: 1px;margin: -1px;overflow: hidden;padding: 0;position: absolute;width: 1px;}#sk-container-id-12 div.sk-estimator {font-family: monospace;background-color: #f0f8ff;border: 1px dotted black;border-radius: 0.25em;box-sizing: border-box;margin-bottom: 0.5em;}#sk-container-id-12 div.sk-estimator:hover {background-color: #d4ebff;}#sk-container-id-12 div.sk-parallel-item::after {content: \"\";width: 100%;border-bottom: 1px solid gray;flex-grow: 1;}#sk-container-id-12 div.sk-label:hover label.sk-toggleable__label {background-color: #d4ebff;}#sk-container-id-12 div.sk-serial::before {content: \"\";position: absolute;border-left: 1px solid gray;box-sizing: border-box;top: 0;bottom: 0;left: 50%;z-index: 0;}#sk-container-id-12 div.sk-serial {display: flex;flex-direction: column;align-items: center;background-color: white;padding-right: 0.2em;padding-left: 0.2em;position: relative;}#sk-container-id-12 div.sk-item {position: relative;z-index: 1;}#sk-container-id-12 div.sk-parallel {display: flex;align-items: stretch;justify-content: center;background-color: white;position: relative;}#sk-container-id-12 div.sk-item::before, #sk-container-id-12 div.sk-parallel-item::before {content: \"\";position: absolute;border-left: 1px solid gray;box-sizing: border-box;top: 0;bottom: 0;left: 50%;z-index: -1;}#sk-container-id-12 div.sk-parallel-item {display: flex;flex-direction: column;z-index: 1;position: relative;background-color: white;}#sk-container-id-12 div.sk-parallel-item:first-child::after {align-self: flex-end;width: 50%;}#sk-container-id-12 div.sk-parallel-item:last-child::after {align-self: flex-start;width: 50%;}#sk-container-id-12 div.sk-parallel-item:only-child::after {width: 0;}#sk-container-id-12 div.sk-dashed-wrapped {border: 1px dashed gray;margin: 0 0.4em 0.5em 0.4em;box-sizing: border-box;padding-bottom: 0.4em;background-color: white;}#sk-container-id-12 div.sk-label label {font-family: monospace;font-weight: bold;display: inline-block;line-height: 1.2em;}#sk-container-id-12 div.sk-label-container {text-align: center;}#sk-container-id-12 div.sk-container {/* jupyter's `normalize.less` sets `[hidden] { display: none; }` but bootstrap.min.css set `[hidden] { display: none !important; }` so we also need the `!important` here to be able to override the default hidden behavior on the sphinx rendered scikit-learn.org. See: https://github.com/scikit-learn/scikit-learn/issues/21755 */display: inline-block !important;position: relative;}#sk-container-id-12 div.sk-text-repr-fallback {display: none;}</style><div id=\"sk-container-id-12\" class=\"sk-top-container\"><div class=\"sk-text-repr-fallback\"><pre>LogisticRegression()</pre><b>In a Jupyter environment, please rerun this cell to show the HTML representation or trust the notebook. <br />On GitHub, the HTML representation is unable to render, please try loading this page with nbviewer.org.</b></div><div class=\"sk-container\" hidden><div class=\"sk-item\"><div class=\"sk-estimator sk-toggleable\"><input class=\"sk-toggleable__control sk-hidden--visually\" id=\"sk-estimator-id-12\" type=\"checkbox\" checked><label for=\"sk-estimator-id-12\" class=\"sk-toggleable__label sk-toggleable__label-arrow\">LogisticRegression</label><div class=\"sk-toggleable__content\"><pre>LogisticRegression()</pre></div></div></div></div></div>"
            ],
            "text/plain": [
              "LogisticRegression()"
            ]
          },
          "execution_count": 292,
          "metadata": {},
          "output_type": "execute_result"
        }
      ],
      "source": [
        "Multi_Log_Reg_Model =LogisticRegression() # Creating the variable called Multi_Log_Reg_Model to assigen the Log reg Model\n",
        "Multi_Log_Reg_Model.fit(Multi_Log_X_train,Multi_Log_y_train) # fitting the train data into the Model"
      ]
    },
    {
      "cell_type": "code",
      "execution_count": null,
      "id": "5d2ab8aa",
      "metadata": {
        "id": "5d2ab8aa"
      },
      "outputs": [],
      "source": [
        "Multi_Log_Reg_y_Predict = Multi_Log_Reg_Model.predict(Multi_Log_X_test) # Making Predictions"
      ]
    },
    {
      "cell_type": "code",
      "execution_count": null,
      "id": "0dba3679",
      "metadata": {
        "id": "0dba3679",
        "outputId": "f41b6294-6fad-4dc0-dcfd-90eee25c192e"
      },
      "outputs": [
        {
          "data": {
            "text/plain": [
              "array([0, 0, 0, ..., 0, 0, 0])"
            ]
          },
          "execution_count": 294,
          "metadata": {},
          "output_type": "execute_result"
        }
      ],
      "source": [
        "Multi_Log_Reg_y_Predict"
      ]
    },
    {
      "cell_type": "code",
      "execution_count": null,
      "id": "d6104a10",
      "metadata": {
        "id": "d6104a10"
      },
      "outputs": [],
      "source": [
        "# Using Confusion Matrix Checking the Number of Correct and wrongly predicted values\n",
        "cm_Log = confusion_matrix(Multi_Log_y_test,Multi_Log_Reg_y_Predict)"
      ]
    },
    {
      "cell_type": "code",
      "execution_count": null,
      "id": "3254c6ea",
      "metadata": {
        "id": "3254c6ea",
        "outputId": "7f3c6670-e5d0-46fb-ceb9-51047e84c0a7"
      },
      "outputs": [
        {
          "data": {
            "text/plain": [
              "array([[944,  92],\n",
              "       [193, 180]], dtype=int64)"
            ]
          },
          "execution_count": 296,
          "metadata": {},
          "output_type": "execute_result"
        }
      ],
      "source": [
        "cm_Log"
      ]
    },
    {
      "cell_type": "code",
      "execution_count": null,
      "id": "bc467b73",
      "metadata": {
        "id": "bc467b73",
        "outputId": "4ff12850-a515-433c-ea82-770b4a04b4a3"
      },
      "outputs": [
        {
          "data": {
            "text/plain": [
              "79.77288857345636"
            ]
          },
          "execution_count": 297,
          "metadata": {},
          "output_type": "execute_result"
        }
      ],
      "source": [
        "# Checking the Accuracy score\n",
        "Multi_Log_Accuracy_Score=accuracy_score(Multi_Log_y_test,Multi_Log_Reg_y_Predict)*100\n",
        "Multi_Log_Accuracy_Score"
      ]
    },
    {
      "cell_type": "markdown",
      "id": "3c2fecee",
      "metadata": {
        "id": "3c2fecee"
      },
      "source": [
        "### Decision Tree"
      ]
    },
    {
      "cell_type": "code",
      "execution_count": null,
      "id": "7ef52c1b",
      "metadata": {
        "id": "7ef52c1b"
      },
      "outputs": [],
      "source": [
        "# Build a decision tree model where dependent variable is ‘Churn’ and independent variable is ‘tenure’:\n",
        "# a. Divide the dataset in 80:20 ratio\n",
        "# b. Build the model on train set and predict the values on test set\n",
        "# c. Build the confusion matrix and calculate the accuracy"
      ]
    },
    {
      "cell_type": "code",
      "execution_count": null,
      "id": "66c49c3d",
      "metadata": {
        "id": "66c49c3d"
      },
      "outputs": [],
      "source": [
        "Dt_X = df.loc[:,['tenure']] # Creating teh DT_X varible to put the independent feature called 'tenure'\n",
        "Dt_y = df.loc[:,['Churn']] # Creating teh DT_y varible to put the dependent feature called 'Churn'"
      ]
    },
    {
      "cell_type": "code",
      "execution_count": null,
      "id": "76ec1ea3",
      "metadata": {
        "id": "76ec1ea3"
      },
      "outputs": [],
      "source": [
        "# Splitting the data into train and test using train test split function and the test size will be 0.20 as asked in the qustion\n",
        "Dt_X_train,Dt_X_test,Dt_y_train,Dt_y_test=train_test_split(Dt_X,Dt_y,test_size=0.20,random_state=42)"
      ]
    },
    {
      "cell_type": "code",
      "execution_count": null,
      "id": "ce18c726",
      "metadata": {
        "id": "ce18c726",
        "outputId": "73403d26-d70a-4470-951b-cba67a818b68"
      },
      "outputs": [
        {
          "data": {
            "text/html": [
              "<style>#sk-container-id-13 {color: black;background-color: white;}#sk-container-id-13 pre{padding: 0;}#sk-container-id-13 div.sk-toggleable {background-color: white;}#sk-container-id-13 label.sk-toggleable__label {cursor: pointer;display: block;width: 100%;margin-bottom: 0;padding: 0.3em;box-sizing: border-box;text-align: center;}#sk-container-id-13 label.sk-toggleable__label-arrow:before {content: \"▸\";float: left;margin-right: 0.25em;color: #696969;}#sk-container-id-13 label.sk-toggleable__label-arrow:hover:before {color: black;}#sk-container-id-13 div.sk-estimator:hover label.sk-toggleable__label-arrow:before {color: black;}#sk-container-id-13 div.sk-toggleable__content {max-height: 0;max-width: 0;overflow: hidden;text-align: left;background-color: #f0f8ff;}#sk-container-id-13 div.sk-toggleable__content pre {margin: 0.2em;color: black;border-radius: 0.25em;background-color: #f0f8ff;}#sk-container-id-13 input.sk-toggleable__control:checked~div.sk-toggleable__content {max-height: 200px;max-width: 100%;overflow: auto;}#sk-container-id-13 input.sk-toggleable__control:checked~label.sk-toggleable__label-arrow:before {content: \"▾\";}#sk-container-id-13 div.sk-estimator input.sk-toggleable__control:checked~label.sk-toggleable__label {background-color: #d4ebff;}#sk-container-id-13 div.sk-label input.sk-toggleable__control:checked~label.sk-toggleable__label {background-color: #d4ebff;}#sk-container-id-13 input.sk-hidden--visually {border: 0;clip: rect(1px 1px 1px 1px);clip: rect(1px, 1px, 1px, 1px);height: 1px;margin: -1px;overflow: hidden;padding: 0;position: absolute;width: 1px;}#sk-container-id-13 div.sk-estimator {font-family: monospace;background-color: #f0f8ff;border: 1px dotted black;border-radius: 0.25em;box-sizing: border-box;margin-bottom: 0.5em;}#sk-container-id-13 div.sk-estimator:hover {background-color: #d4ebff;}#sk-container-id-13 div.sk-parallel-item::after {content: \"\";width: 100%;border-bottom: 1px solid gray;flex-grow: 1;}#sk-container-id-13 div.sk-label:hover label.sk-toggleable__label {background-color: #d4ebff;}#sk-container-id-13 div.sk-serial::before {content: \"\";position: absolute;border-left: 1px solid gray;box-sizing: border-box;top: 0;bottom: 0;left: 50%;z-index: 0;}#sk-container-id-13 div.sk-serial {display: flex;flex-direction: column;align-items: center;background-color: white;padding-right: 0.2em;padding-left: 0.2em;position: relative;}#sk-container-id-13 div.sk-item {position: relative;z-index: 1;}#sk-container-id-13 div.sk-parallel {display: flex;align-items: stretch;justify-content: center;background-color: white;position: relative;}#sk-container-id-13 div.sk-item::before, #sk-container-id-13 div.sk-parallel-item::before {content: \"\";position: absolute;border-left: 1px solid gray;box-sizing: border-box;top: 0;bottom: 0;left: 50%;z-index: -1;}#sk-container-id-13 div.sk-parallel-item {display: flex;flex-direction: column;z-index: 1;position: relative;background-color: white;}#sk-container-id-13 div.sk-parallel-item:first-child::after {align-self: flex-end;width: 50%;}#sk-container-id-13 div.sk-parallel-item:last-child::after {align-self: flex-start;width: 50%;}#sk-container-id-13 div.sk-parallel-item:only-child::after {width: 0;}#sk-container-id-13 div.sk-dashed-wrapped {border: 1px dashed gray;margin: 0 0.4em 0.5em 0.4em;box-sizing: border-box;padding-bottom: 0.4em;background-color: white;}#sk-container-id-13 div.sk-label label {font-family: monospace;font-weight: bold;display: inline-block;line-height: 1.2em;}#sk-container-id-13 div.sk-label-container {text-align: center;}#sk-container-id-13 div.sk-container {/* jupyter's `normalize.less` sets `[hidden] { display: none; }` but bootstrap.min.css set `[hidden] { display: none !important; }` so we also need the `!important` here to be able to override the default hidden behavior on the sphinx rendered scikit-learn.org. See: https://github.com/scikit-learn/scikit-learn/issues/21755 */display: inline-block !important;position: relative;}#sk-container-id-13 div.sk-text-repr-fallback {display: none;}</style><div id=\"sk-container-id-13\" class=\"sk-top-container\"><div class=\"sk-text-repr-fallback\"><pre>DecisionTreeClassifier(random_state=42)</pre><b>In a Jupyter environment, please rerun this cell to show the HTML representation or trust the notebook. <br />On GitHub, the HTML representation is unable to render, please try loading this page with nbviewer.org.</b></div><div class=\"sk-container\" hidden><div class=\"sk-item\"><div class=\"sk-estimator sk-toggleable\"><input class=\"sk-toggleable__control sk-hidden--visually\" id=\"sk-estimator-id-13\" type=\"checkbox\" checked><label for=\"sk-estimator-id-13\" class=\"sk-toggleable__label sk-toggleable__label-arrow\">DecisionTreeClassifier</label><div class=\"sk-toggleable__content\"><pre>DecisionTreeClassifier(random_state=42)</pre></div></div></div></div></div>"
            ],
            "text/plain": [
              "DecisionTreeClassifier(random_state=42)"
            ]
          },
          "execution_count": 301,
          "metadata": {},
          "output_type": "execute_result"
        }
      ],
      "source": [
        "from sklearn.tree import DecisionTreeClassifier # Importing the Decision Tree Algoritham\n",
        "Dt_model = DecisionTreeClassifier(random_state=42) # Setting the model into a variable called DT_model and putting the random state as 42.\n",
        "Dt_model.fit(Dt_X_train,Dt_y_train) # fitting the Trained data into the DT MOdel"
      ]
    },
    {
      "cell_type": "code",
      "execution_count": null,
      "id": "b517a0e2",
      "metadata": {
        "id": "b517a0e2"
      },
      "outputs": [],
      "source": [
        "Dt_y_Predict = Dt_model.predict(Dt_X_test) # Making Predections"
      ]
    },
    {
      "cell_type": "code",
      "execution_count": null,
      "id": "c1979d79",
      "metadata": {
        "id": "c1979d79",
        "outputId": "7828c0dc-8d87-4662-fe2a-9e78d44b72ec"
      },
      "outputs": [
        {
          "data": {
            "text/plain": [
              "array([1, 0, 0, ..., 0, 0, 1])"
            ]
          },
          "execution_count": 303,
          "metadata": {},
          "output_type": "execute_result"
        }
      ],
      "source": [
        "Dt_y_Predict"
      ]
    },
    {
      "cell_type": "code",
      "execution_count": null,
      "id": "9e1846ff",
      "metadata": {
        "id": "9e1846ff",
        "outputId": "6833265a-9a4e-4089-e7c3-a88af75e083d"
      },
      "outputs": [
        {
          "data": {
            "text/plain": [
              "array([[951,  85],\n",
              "       [257, 116]], dtype=int64)"
            ]
          },
          "execution_count": 304,
          "metadata": {},
          "output_type": "execute_result"
        }
      ],
      "source": [
        "# Using Confusion Matrix Checking the Number of Correct and wrongly predicted values\n",
        "Dt_cm = confusion_matrix(Dt_y_test,Dt_y_Predict)\n",
        "Dt_cm"
      ]
    },
    {
      "cell_type": "code",
      "execution_count": null,
      "id": "74433730",
      "metadata": {
        "id": "74433730",
        "outputId": "e4902f3d-78e9-4e48-dc0c-a3d82112f578"
      },
      "outputs": [
        {
          "data": {
            "text/plain": [
              "75.72746628814762"
            ]
          },
          "execution_count": 305,
          "metadata": {},
          "output_type": "execute_result"
        }
      ],
      "source": [
        "# Checking the Accuracy score\n",
        "Dt_Accuracy_Score = accuracy_score(Dt_y_test,Dt_y_Predict)*100\n",
        "Dt_Accuracy_Score"
      ]
    },
    {
      "cell_type": "markdown",
      "id": "5cf13c62",
      "metadata": {
        "id": "5cf13c62"
      },
      "source": [
        "### Random Forest:"
      ]
    },
    {
      "cell_type": "code",
      "execution_count": null,
      "id": "18d781c9",
      "metadata": {
        "id": "18d781c9"
      },
      "outputs": [],
      "source": [
        "# Build a Random Forest model where dependent variable is ‘Churn’ and\n",
        "# independent variables are ‘tenure’ and ‘MonthlyCharges’:\n",
        "# a. Divide the dataset in 70:30 ratio\n",
        "# b. Build the model on train set and predict the values on test set\n",
        "# c. Build the confusion matrix and calculate the accuracy"
      ]
    },
    {
      "cell_type": "code",
      "execution_count": null,
      "id": "7cbbe6e2",
      "metadata": {
        "id": "7cbbe6e2"
      },
      "outputs": [],
      "source": [
        "RF_X = df.loc[:,['tenure','MonthlyCharges']] # Creating the Variable called RF_X for assigening the Independent Columns like Tenure and Monthly Charges\n",
        "RF_y = df.loc[:,['Churn']] # Creating the variable called RF_y for assigening the dependent column called 'Churn'"
      ]
    },
    {
      "cell_type": "code",
      "execution_count": null,
      "id": "527658bf",
      "metadata": {
        "id": "527658bf"
      },
      "outputs": [],
      "source": [
        "# Splitting the data into train and test using train test split function and the test size will be 0.30 as asked in the qustion\n",
        "\n",
        "RF_X_train,RF_X_test,RF_y_train,RF_y_test=train_test_split(RF_X,RF_y,test_size=0.30,random_state=42)"
      ]
    },
    {
      "cell_type": "code",
      "execution_count": null,
      "id": "8f9cc040",
      "metadata": {
        "id": "8f9cc040"
      },
      "outputs": [],
      "source": [
        "from sklearn.ensemble import RandomForestClassifier # Importing the Random Forest Model\n",
        "RF_model = RandomForestClassifier() # Creating a variable callled RF_model to assigen the Model for using simply."
      ]
    },
    {
      "cell_type": "code",
      "execution_count": null,
      "id": "63138d54",
      "metadata": {
        "id": "63138d54",
        "outputId": "f3b6c5ff-d06c-4c55-f0c4-ace5dfdd95b7"
      },
      "outputs": [
        {
          "name": "stderr",
          "output_type": "stream",
          "text": [
            "C:\\Users\\UDAY\\AppData\\Local\\Temp\\ipykernel_10416\\138921016.py:1: DataConversionWarning: A column-vector y was passed when a 1d array was expected. Please change the shape of y to (n_samples,), for example using ravel().\n",
            "  RF_model.fit(RF_X_train,RF_y_train) # Fitting the Trained Data into the Model\n"
          ]
        },
        {
          "data": {
            "text/html": [
              "<style>#sk-container-id-14 {color: black;background-color: white;}#sk-container-id-14 pre{padding: 0;}#sk-container-id-14 div.sk-toggleable {background-color: white;}#sk-container-id-14 label.sk-toggleable__label {cursor: pointer;display: block;width: 100%;margin-bottom: 0;padding: 0.3em;box-sizing: border-box;text-align: center;}#sk-container-id-14 label.sk-toggleable__label-arrow:before {content: \"▸\";float: left;margin-right: 0.25em;color: #696969;}#sk-container-id-14 label.sk-toggleable__label-arrow:hover:before {color: black;}#sk-container-id-14 div.sk-estimator:hover label.sk-toggleable__label-arrow:before {color: black;}#sk-container-id-14 div.sk-toggleable__content {max-height: 0;max-width: 0;overflow: hidden;text-align: left;background-color: #f0f8ff;}#sk-container-id-14 div.sk-toggleable__content pre {margin: 0.2em;color: black;border-radius: 0.25em;background-color: #f0f8ff;}#sk-container-id-14 input.sk-toggleable__control:checked~div.sk-toggleable__content {max-height: 200px;max-width: 100%;overflow: auto;}#sk-container-id-14 input.sk-toggleable__control:checked~label.sk-toggleable__label-arrow:before {content: \"▾\";}#sk-container-id-14 div.sk-estimator input.sk-toggleable__control:checked~label.sk-toggleable__label {background-color: #d4ebff;}#sk-container-id-14 div.sk-label input.sk-toggleable__control:checked~label.sk-toggleable__label {background-color: #d4ebff;}#sk-container-id-14 input.sk-hidden--visually {border: 0;clip: rect(1px 1px 1px 1px);clip: rect(1px, 1px, 1px, 1px);height: 1px;margin: -1px;overflow: hidden;padding: 0;position: absolute;width: 1px;}#sk-container-id-14 div.sk-estimator {font-family: monospace;background-color: #f0f8ff;border: 1px dotted black;border-radius: 0.25em;box-sizing: border-box;margin-bottom: 0.5em;}#sk-container-id-14 div.sk-estimator:hover {background-color: #d4ebff;}#sk-container-id-14 div.sk-parallel-item::after {content: \"\";width: 100%;border-bottom: 1px solid gray;flex-grow: 1;}#sk-container-id-14 div.sk-label:hover label.sk-toggleable__label {background-color: #d4ebff;}#sk-container-id-14 div.sk-serial::before {content: \"\";position: absolute;border-left: 1px solid gray;box-sizing: border-box;top: 0;bottom: 0;left: 50%;z-index: 0;}#sk-container-id-14 div.sk-serial {display: flex;flex-direction: column;align-items: center;background-color: white;padding-right: 0.2em;padding-left: 0.2em;position: relative;}#sk-container-id-14 div.sk-item {position: relative;z-index: 1;}#sk-container-id-14 div.sk-parallel {display: flex;align-items: stretch;justify-content: center;background-color: white;position: relative;}#sk-container-id-14 div.sk-item::before, #sk-container-id-14 div.sk-parallel-item::before {content: \"\";position: absolute;border-left: 1px solid gray;box-sizing: border-box;top: 0;bottom: 0;left: 50%;z-index: -1;}#sk-container-id-14 div.sk-parallel-item {display: flex;flex-direction: column;z-index: 1;position: relative;background-color: white;}#sk-container-id-14 div.sk-parallel-item:first-child::after {align-self: flex-end;width: 50%;}#sk-container-id-14 div.sk-parallel-item:last-child::after {align-self: flex-start;width: 50%;}#sk-container-id-14 div.sk-parallel-item:only-child::after {width: 0;}#sk-container-id-14 div.sk-dashed-wrapped {border: 1px dashed gray;margin: 0 0.4em 0.5em 0.4em;box-sizing: border-box;padding-bottom: 0.4em;background-color: white;}#sk-container-id-14 div.sk-label label {font-family: monospace;font-weight: bold;display: inline-block;line-height: 1.2em;}#sk-container-id-14 div.sk-label-container {text-align: center;}#sk-container-id-14 div.sk-container {/* jupyter's `normalize.less` sets `[hidden] { display: none; }` but bootstrap.min.css set `[hidden] { display: none !important; }` so we also need the `!important` here to be able to override the default hidden behavior on the sphinx rendered scikit-learn.org. See: https://github.com/scikit-learn/scikit-learn/issues/21755 */display: inline-block !important;position: relative;}#sk-container-id-14 div.sk-text-repr-fallback {display: none;}</style><div id=\"sk-container-id-14\" class=\"sk-top-container\"><div class=\"sk-text-repr-fallback\"><pre>RandomForestClassifier()</pre><b>In a Jupyter environment, please rerun this cell to show the HTML representation or trust the notebook. <br />On GitHub, the HTML representation is unable to render, please try loading this page with nbviewer.org.</b></div><div class=\"sk-container\" hidden><div class=\"sk-item\"><div class=\"sk-estimator sk-toggleable\"><input class=\"sk-toggleable__control sk-hidden--visually\" id=\"sk-estimator-id-14\" type=\"checkbox\" checked><label for=\"sk-estimator-id-14\" class=\"sk-toggleable__label sk-toggleable__label-arrow\">RandomForestClassifier</label><div class=\"sk-toggleable__content\"><pre>RandomForestClassifier()</pre></div></div></div></div></div>"
            ],
            "text/plain": [
              "RandomForestClassifier()"
            ]
          },
          "execution_count": 310,
          "metadata": {},
          "output_type": "execute_result"
        }
      ],
      "source": [
        "RF_model.fit(RF_X_train,RF_y_train) # Fitting the Trained Data into the Model"
      ]
    },
    {
      "cell_type": "code",
      "execution_count": null,
      "id": "bf555c76",
      "metadata": {
        "id": "bf555c76"
      },
      "outputs": [],
      "source": [
        "RF_y_predict = RF_model.predict(RF_X_test) # Making Predections"
      ]
    },
    {
      "cell_type": "code",
      "execution_count": null,
      "id": "eb7942ff",
      "metadata": {
        "id": "eb7942ff",
        "outputId": "6015d0c7-8cfc-4eef-86cd-06dbbee4bc33"
      },
      "outputs": [
        {
          "data": {
            "text/plain": [
              "array([1, 0, 0, ..., 0, 0, 0])"
            ]
          },
          "execution_count": 312,
          "metadata": {},
          "output_type": "execute_result"
        }
      ],
      "source": [
        "RF_y_predict"
      ]
    },
    {
      "cell_type": "code",
      "execution_count": null,
      "id": "ad210dbf",
      "metadata": {
        "id": "ad210dbf",
        "outputId": "01bacad8-f83b-45bb-c7df-411fa9961332"
      },
      "outputs": [
        {
          "data": {
            "text/plain": [
              "array([[1331,  208],\n",
              "       [ 303,  271]], dtype=int64)"
            ]
          },
          "execution_count": 313,
          "metadata": {},
          "output_type": "execute_result"
        }
      ],
      "source": [
        "# Using Confusion Matrix Checking the Number of Correct and wrongly predicted values\n",
        "RF_cm = confusion_matrix(RF_y_test,RF_y_predict)\n",
        "RF_cm"
      ]
    },
    {
      "cell_type": "code",
      "execution_count": null,
      "id": "6387f5d6",
      "metadata": {
        "id": "6387f5d6",
        "outputId": "86379440-983f-4273-a771-4d217f1f8610"
      },
      "outputs": [
        {
          "data": {
            "text/plain": [
              "75.81637482252721"
            ]
          },
          "execution_count": 314,
          "metadata": {},
          "output_type": "execute_result"
        }
      ],
      "source": [
        "# Checking the Accuracy score\n",
        "RF_Accuracy_Score = accuracy_score(RF_y_test,RF_y_predict)*100\n",
        "RF_Accuracy_Score"
      ]
    },
    {
      "cell_type": "code",
      "execution_count": null,
      "id": "7ce6e82c",
      "metadata": {
        "id": "7ce6e82c",
        "outputId": "ed687355-a995-443c-8978-526ba013e6eb"
      },
      "outputs": [
        {
          "name": "stderr",
          "output_type": "stream",
          "text": [
            "D:\\ANK\\lib\\site-packages\\sklearn\\model_selection\\_search.py:909: DataConversionWarning: A column-vector y was passed when a 1d array was expected. Please change the shape of y to (n_samples,), for example using ravel().\n",
            "  self.best_estimator_.fit(X, y, **fit_params)\n",
            "C:\\Users\\UDAY\\AppData\\Local\\Temp\\ipykernel_10416\\608597418.py:26: DataConversionWarning: A column-vector y was passed when a 1d array was expected. Please change the shape of y to (n_samples,), for example using ravel().\n",
            "  best_rf.fit(RF_X_train,RF_y_train)\n"
          ]
        },
        {
          "data": {
            "text/html": [
              "<style>#sk-container-id-17 {color: black;background-color: white;}#sk-container-id-17 pre{padding: 0;}#sk-container-id-17 div.sk-toggleable {background-color: white;}#sk-container-id-17 label.sk-toggleable__label {cursor: pointer;display: block;width: 100%;margin-bottom: 0;padding: 0.3em;box-sizing: border-box;text-align: center;}#sk-container-id-17 label.sk-toggleable__label-arrow:before {content: \"▸\";float: left;margin-right: 0.25em;color: #696969;}#sk-container-id-17 label.sk-toggleable__label-arrow:hover:before {color: black;}#sk-container-id-17 div.sk-estimator:hover label.sk-toggleable__label-arrow:before {color: black;}#sk-container-id-17 div.sk-toggleable__content {max-height: 0;max-width: 0;overflow: hidden;text-align: left;background-color: #f0f8ff;}#sk-container-id-17 div.sk-toggleable__content pre {margin: 0.2em;color: black;border-radius: 0.25em;background-color: #f0f8ff;}#sk-container-id-17 input.sk-toggleable__control:checked~div.sk-toggleable__content {max-height: 200px;max-width: 100%;overflow: auto;}#sk-container-id-17 input.sk-toggleable__control:checked~label.sk-toggleable__label-arrow:before {content: \"▾\";}#sk-container-id-17 div.sk-estimator input.sk-toggleable__control:checked~label.sk-toggleable__label {background-color: #d4ebff;}#sk-container-id-17 div.sk-label input.sk-toggleable__control:checked~label.sk-toggleable__label {background-color: #d4ebff;}#sk-container-id-17 input.sk-hidden--visually {border: 0;clip: rect(1px 1px 1px 1px);clip: rect(1px, 1px, 1px, 1px);height: 1px;margin: -1px;overflow: hidden;padding: 0;position: absolute;width: 1px;}#sk-container-id-17 div.sk-estimator {font-family: monospace;background-color: #f0f8ff;border: 1px dotted black;border-radius: 0.25em;box-sizing: border-box;margin-bottom: 0.5em;}#sk-container-id-17 div.sk-estimator:hover {background-color: #d4ebff;}#sk-container-id-17 div.sk-parallel-item::after {content: \"\";width: 100%;border-bottom: 1px solid gray;flex-grow: 1;}#sk-container-id-17 div.sk-label:hover label.sk-toggleable__label {background-color: #d4ebff;}#sk-container-id-17 div.sk-serial::before {content: \"\";position: absolute;border-left: 1px solid gray;box-sizing: border-box;top: 0;bottom: 0;left: 50%;z-index: 0;}#sk-container-id-17 div.sk-serial {display: flex;flex-direction: column;align-items: center;background-color: white;padding-right: 0.2em;padding-left: 0.2em;position: relative;}#sk-container-id-17 div.sk-item {position: relative;z-index: 1;}#sk-container-id-17 div.sk-parallel {display: flex;align-items: stretch;justify-content: center;background-color: white;position: relative;}#sk-container-id-17 div.sk-item::before, #sk-container-id-17 div.sk-parallel-item::before {content: \"\";position: absolute;border-left: 1px solid gray;box-sizing: border-box;top: 0;bottom: 0;left: 50%;z-index: -1;}#sk-container-id-17 div.sk-parallel-item {display: flex;flex-direction: column;z-index: 1;position: relative;background-color: white;}#sk-container-id-17 div.sk-parallel-item:first-child::after {align-self: flex-end;width: 50%;}#sk-container-id-17 div.sk-parallel-item:last-child::after {align-self: flex-start;width: 50%;}#sk-container-id-17 div.sk-parallel-item:only-child::after {width: 0;}#sk-container-id-17 div.sk-dashed-wrapped {border: 1px dashed gray;margin: 0 0.4em 0.5em 0.4em;box-sizing: border-box;padding-bottom: 0.4em;background-color: white;}#sk-container-id-17 div.sk-label label {font-family: monospace;font-weight: bold;display: inline-block;line-height: 1.2em;}#sk-container-id-17 div.sk-label-container {text-align: center;}#sk-container-id-17 div.sk-container {/* jupyter's `normalize.less` sets `[hidden] { display: none; }` but bootstrap.min.css set `[hidden] { display: none !important; }` so we also need the `!important` here to be able to override the default hidden behavior on the sphinx rendered scikit-learn.org. See: https://github.com/scikit-learn/scikit-learn/issues/21755 */display: inline-block !important;position: relative;}#sk-container-id-17 div.sk-text-repr-fallback {display: none;}</style><div id=\"sk-container-id-17\" class=\"sk-top-container\"><div class=\"sk-text-repr-fallback\"><pre>RandomForestClassifier(max_depth=10, min_samples_leaf=4)</pre><b>In a Jupyter environment, please rerun this cell to show the HTML representation or trust the notebook. <br />On GitHub, the HTML representation is unable to render, please try loading this page with nbviewer.org.</b></div><div class=\"sk-container\" hidden><div class=\"sk-item\"><div class=\"sk-estimator sk-toggleable\"><input class=\"sk-toggleable__control sk-hidden--visually\" id=\"sk-estimator-id-17\" type=\"checkbox\" checked><label for=\"sk-estimator-id-17\" class=\"sk-toggleable__label sk-toggleable__label-arrow\">RandomForestClassifier</label><div class=\"sk-toggleable__content\"><pre>RandomForestClassifier(max_depth=10, min_samples_leaf=4)</pre></div></div></div></div></div>"
            ],
            "text/plain": [
              "RandomForestClassifier(max_depth=10, min_samples_leaf=4)"
            ]
          },
          "execution_count": 320,
          "metadata": {},
          "output_type": "execute_result"
        }
      ],
      "source": [
        "from sklearn.ensemble import RandomForestClassifier\n",
        "from sklearn.model_selection import GridSearchCV\n",
        "\n",
        "# Define the hyperparameters grid\n",
        "param_grid = {\n",
        "    'n_estimators': [100, 200, 300],\n",
        "    'max_depth': [None, 10, 20],\n",
        "    'min_samples_split': [2, 5, 10],\n",
        "    'min_samples_leaf': [1, 2, 4],\n",
        "    'max_features': ['auto', 'sqrt'],\n",
        "    'bootstrap': [True, False]\n",
        "}\n",
        "\n",
        "# Create a Random Forest classifier\n",
        "rf = RandomForestClassifier()\n",
        "\n",
        "# Use GridSearchCV to find the best combination of hyperparameters\n",
        "grid_search = GridSearchCV(estimator=rf, param_grid=param_grid, cv=5, scoring='accuracy', n_jobs=-1)\n",
        "grid_search.fit(RF_X_train,RF_y_train)\n",
        "\n",
        "# Get the best hyperparameters\n",
        "best_params = grid_search.best_params_\n",
        "\n",
        "# Train a new Random Forest model with the best hyperparameters\n",
        "best_rf = RandomForestClassifier(**best_params)\n",
        "best_rf.fit(RF_X_train,RF_y_train)"
      ]
    },
    {
      "cell_type": "code",
      "execution_count": null,
      "id": "13b2a27e",
      "metadata": {
        "id": "13b2a27e",
        "outputId": "f2143f52-77f3-4b33-bc21-84298f1dfcd3"
      },
      "outputs": [
        {
          "name": "stdout",
          "output_type": "stream",
          "text": [
            "Classification Report:\n",
            "              precision    recall  f1-score   support\n",
            "\n",
            "           0       0.81      0.92      0.86      1539\n",
            "           1       0.66      0.43      0.52       574\n",
            "\n",
            "    accuracy                           0.78      2113\n",
            "   macro avg       0.73      0.67      0.69      2113\n",
            "weighted avg       0.77      0.78      0.77      2113\n",
            "\n",
            "Confusion Matrix:\n",
            "[[1409  130]\n",
            " [ 327  247]]\n"
          ]
        }
      ],
      "source": [
        "from sklearn.metrics import classification_report, confusion_matrix\n",
        "\n",
        "# Make predictions on the test set\n",
        "RF_y_pred = best_rf.predict(RF_X_test)\n",
        "\n",
        "# Evaluate performance\n",
        "print(\"Classification Report:\")\n",
        "cr=classification_report(RF_y_test, RF_y_pred)\n",
        "print(cr)\n",
        "\n",
        "print(\"Confusion Matrix:\")\n",
        "cm=confusion_matrix(RF_y_test, RF_y_pred)\n",
        "print(cm)"
      ]
    },
    {
      "cell_type": "markdown",
      "id": "f0c7ce6c",
      "metadata": {
        "id": "f0c7ce6c"
      },
      "source": [
        "**Classification Report:\n",
        "\n",
        "Class 0 (negative class) has a precision of 0.81 and recall of 0.92, while class 1 (positive class) has a precision of 0.66 and recall of 0.43. The weighted average F1-score is 0.77.\n",
        "Confusion Matrix:\n",
        "\n",
        "The classifier correctly classified 1409 instances as class 0 and 247 instances as class 1. It incorrectly classified 130 instances as class 1 when they were actually class 0 and 327 instances as class 0 when they were actually class 1. The accuracy of the classifier is 78%.**"
      ]
    },
    {
      "cell_type": "markdown",
      "id": "105bf000",
      "metadata": {
        "id": "105bf000"
      },
      "source": [
        "# Thank You !"
      ]
    },
    {
      "cell_type": "code",
      "execution_count": null,
      "id": "c0e2cfcc",
      "metadata": {
        "id": "c0e2cfcc"
      },
      "outputs": [],
      "source": []
    }
  ],
  "metadata": {
    "kernelspec": {
      "display_name": "Python 3 (ipykernel)",
      "language": "python",
      "name": "python3"
    },
    "language_info": {
      "codemirror_mode": {
        "name": "ipython",
        "version": 3
      },
      "file_extension": ".py",
      "mimetype": "text/x-python",
      "name": "python",
      "nbconvert_exporter": "python",
      "pygments_lexer": "ipython3",
      "version": "3.10.9"
    },
    "colab": {
      "provenance": []
    }
  },
  "nbformat": 4,
  "nbformat_minor": 5
}